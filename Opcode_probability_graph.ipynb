{
 "cells": [
  {
   "cell_type": "markdown",
   "id": "dcef6934-080c-4fc3-9f01-6344f0de8801",
   "metadata": {},
   "source": [
    "# Load data"
   ]
  },
  {
   "cell_type": "code",
   "execution_count": 1,
   "id": "87dabcf0-d9a7-4f59-bc9f-f9f38e6a151f",
   "metadata": {},
   "outputs": [],
   "source": [
    "import numpy as np\n",
    "import os\n",
    "import time\n",
    "from sklearn.feature_extraction.text import CountVectorizer\n",
    "from tqdm import trange , tqdm\n",
    "import heapq"
   ]
  },
  {
   "cell_type": "code",
   "execution_count": 2,
   "id": "ee5fa7bf-9881-4171-bdbc-5f4cd70b95f2",
   "metadata": {},
   "outputs": [],
   "source": [
    "#read malware opcode sequence\n",
    "malware_path = \"/home/jim/opcode/malware_npy/\"\n",
    "benign_path = \"/home/jim/opcode/benign_npy/\"\n",
    "malware_file_name = sorted(os.listdir(malware_path))\n",
    "benign_file_name = sorted(os.listdir(benign_path))"
   ]
  },
  {
   "cell_type": "code",
   "execution_count": 3,
   "id": "87c29d8f-b7cf-45cf-870a-362ead3e6c9d",
   "metadata": {},
   "outputs": [
    {
     "data": {
      "text/plain": [
       "'preprocess2npy.ipynb'"
      ]
     },
     "execution_count": 3,
     "metadata": {},
     "output_type": "execute_result"
    }
   ],
   "source": [
    "benign_file_name.pop(0)\n",
    "benign_file_name.pop(-1)"
   ]
  },
  {
   "cell_type": "code",
   "execution_count": 4,
   "id": "3a04cea1-fcaa-4c57-ae7d-7858ba7c3afb",
   "metadata": {},
   "outputs": [
    {
     "data": {
      "text/plain": [
       "'preprocess2npy.ipynb'"
      ]
     },
     "execution_count": 4,
     "metadata": {},
     "output_type": "execute_result"
    }
   ],
   "source": [
    "malware_file_name.pop(0)\n",
    "malware_file_name.pop(-1)"
   ]
  },
  {
   "cell_type": "markdown",
   "id": "c6b5a13c-7fb3-4f35-b179-1c9683c26686",
   "metadata": {
    "jp-MarkdownHeadingCollapsed": true,
    "tags": []
   },
   "source": [
    "# Lable"
   ]
  },
  {
   "cell_type": "code",
   "execution_count": 6,
   "id": "eadafd2e-e688-44cd-a447-46fd316ed132",
   "metadata": {},
   "outputs": [],
   "source": [
    "#Labling\n",
    "def labling(benign_num, mal_num ):\n",
    "    y = np.zeros(benign_num + mal_num)\n",
    "    y[mal_num:benign_num+mal_num] = 1\n",
    "    return y"
   ]
  },
  {
   "cell_type": "markdown",
   "id": "e8f2e158-513b-432c-9397-3084c5e951d9",
   "metadata": {
    "jp-MarkdownHeadingCollapsed": true,
    "tags": []
   },
   "source": [
    "# Clean empty data"
   ]
  },
  {
   "cell_type": "code",
   "execution_count": null,
   "id": "4639053b-bcba-455c-80a5-5821af5ad633",
   "metadata": {},
   "outputs": [
    {
     "name": "stderr",
     "output_type": "stream",
     "text": [
      " 78%|█████████████████████████████████████████████████████████████████████████████████████████████████████████████████████████████▊                                   | 34021/43534 [06:56<01:48, 87.54it/s]"
     ]
    }
   ],
   "source": [
    "#clean empty file\n",
    "X = []\n",
    "for i in tqdm(malware_file_name):\n",
    "    try:\n",
    "        t = np.load(malware_path + '/' + i, encoding = \"ASCII\")\n",
    "        tmp = \"\"\n",
    "        if(len(t) != 0):\n",
    "            for j in t:\n",
    "                tmp += str(j + \" \")\n",
    "                if(j == '16' or j == '32' or j=='64'):\n",
    "                    print(i)\n",
    "            X.append(tmp[:-1])\n",
    "    except:\n",
    "        pass\n",
    "malware_length = len(X) \n",
    "for i in tqdm(benign_file_name):\n",
    "    try:\n",
    "        t = np.load(benign_path + '/' + i, encoding = \"ASCII\")\n",
    "        tmp = \"\"\n",
    "        if(len(t) != 0):\n",
    "            for j in t:\n",
    "                tmp += str(j + \" \")\n",
    "                if(j == '16' or j == '32' or j=='64'):\n",
    "                    print(i)\n",
    "            X.append(tmp[:-1])\n",
    "    except:\n",
    "        pass\n",
    "benign_length = len(X) - malware_length\n",
    "\n",
    "y = labling(benign_length , malware_length)"
   ]
  },
  {
   "cell_type": "markdown",
   "id": "ba763f99-7463-4273-af2c-c9a9017bc58a",
   "metadata": {
    "jp-MarkdownHeadingCollapsed": true,
    "tags": []
   },
   "source": [
    "# Preprocessing"
   ]
  },
  {
   "cell_type": "code",
   "execution_count": null,
   "id": "61d35c1a-33cc-4438-8307-b58e175e658f",
   "metadata": {},
   "outputs": [],
   "source": [
    "from sklearn.feature_extraction.text import CountVectorizer\n",
    "from tqdm import trange\n",
    "import heapq"
   ]
  },
  {
   "cell_type": "code",
   "execution_count": 258,
   "id": "b3ce7dc0-c25f-4e1e-8731-424e7472e217",
   "metadata": {},
   "outputs": [],
   "source": [
    "vectorizer = CountVectorizer()"
   ]
  },
  {
   "cell_type": "code",
   "execution_count": 259,
   "id": "d3d7fe41-6f18-4daf-ad16-5f5396350936",
   "metadata": {},
   "outputs": [],
   "source": [
    "x = vectorizer.fit_transform(X)"
   ]
  },
  {
   "cell_type": "code",
   "execution_count": 260,
   "id": "e0583398-7640-4366-87df-a74e3580bf6e",
   "metadata": {},
   "outputs": [],
   "source": [
    "x = x.toarray()"
   ]
  },
  {
   "cell_type": "code",
   "execution_count": 274,
   "id": "9183a252-1ca1-473f-bcc8-2bc64ffdafbd",
   "metadata": {
    "collapsed": true,
    "jupyter": {
     "outputs_hidden": true
    },
    "tags": []
   },
   "outputs": [
    {
     "data": {
      "text/plain": [
       "['16',\n",
       " '32',\n",
       " '64',\n",
       " 'aaa',\n",
       " 'aad',\n",
       " 'aam',\n",
       " 'aas',\n",
       " 'abs',\n",
       " 'adc',\n",
       " 'adceq',\n",
       " 'adcge',\n",
       " 'adcgt',\n",
       " 'adchi',\n",
       " 'adchs',\n",
       " 'adcle',\n",
       " 'adclo',\n",
       " 'adcls',\n",
       " 'adclt',\n",
       " 'adcmi',\n",
       " 'adcne',\n",
       " 'adcpl',\n",
       " 'adcs',\n",
       " 'adcseq',\n",
       " 'adcsge',\n",
       " 'adcsgt',\n",
       " 'adcshi',\n",
       " 'adcshs',\n",
       " 'adcsle',\n",
       " 'adcslo',\n",
       " 'adcsls',\n",
       " 'adcslt',\n",
       " 'adcsmi',\n",
       " 'adcsne',\n",
       " 'adcspl',\n",
       " 'adcsvc',\n",
       " 'adcsvs',\n",
       " 'adcvc',\n",
       " 'adcvs',\n",
       " 'adcx',\n",
       " 'add',\n",
       " 'addc',\n",
       " 'adde',\n",
       " 'addeq',\n",
       " 'addge',\n",
       " 'addgt',\n",
       " 'addhi',\n",
       " 'addhs',\n",
       " 'addi',\n",
       " 'addic',\n",
       " 'addis',\n",
       " 'addiu',\n",
       " 'addle',\n",
       " 'addlo',\n",
       " 'addls',\n",
       " 'addlt',\n",
       " 'addme',\n",
       " 'addmi',\n",
       " 'addne',\n",
       " 'addp',\n",
       " 'addpd',\n",
       " 'addpl',\n",
       " 'addps',\n",
       " 'adds',\n",
       " 'adds_a',\n",
       " 'addsd',\n",
       " 'addseq',\n",
       " 'addsge',\n",
       " 'addsgt',\n",
       " 'addshi',\n",
       " 'addshs',\n",
       " 'addsle',\n",
       " 'addslo',\n",
       " 'addsls',\n",
       " 'addslt',\n",
       " 'addsmi',\n",
       " 'addsne',\n",
       " 'addspl',\n",
       " 'addss',\n",
       " 'addsubps',\n",
       " 'addsvc',\n",
       " 'addsvs',\n",
       " 'addu',\n",
       " 'adduh',\n",
       " 'addv',\n",
       " 'addvc',\n",
       " 'addvs',\n",
       " 'addw',\n",
       " 'addweq',\n",
       " 'addwge',\n",
       " 'addwgt',\n",
       " 'addwhi',\n",
       " 'addwlo',\n",
       " 'addwls',\n",
       " 'addwlt',\n",
       " 'addwmi',\n",
       " 'addwne',\n",
       " 'addwpl',\n",
       " 'addze',\n",
       " 'adox',\n",
       " 'adr',\n",
       " 'adreq',\n",
       " 'adrge',\n",
       " 'adrgt',\n",
       " 'adrhi',\n",
       " 'adrhs',\n",
       " 'adrle',\n",
       " 'adrlo',\n",
       " 'adrls',\n",
       " 'adrlt',\n",
       " 'adrmi',\n",
       " 'adrne',\n",
       " 'adrp',\n",
       " 'adrpl',\n",
       " 'adrvc',\n",
       " 'adrvs',\n",
       " 'aesdec',\n",
       " 'aesdeclast',\n",
       " 'aese',\n",
       " 'aesenc',\n",
       " 'aesenclast',\n",
       " 'aesimc',\n",
       " 'aeskeygenassist',\n",
       " 'aesmc',\n",
       " 'and',\n",
       " 'andc',\n",
       " 'andeq',\n",
       " 'andge',\n",
       " 'andgt',\n",
       " 'andhi',\n",
       " 'andhs',\n",
       " 'andi',\n",
       " 'andis',\n",
       " 'andle',\n",
       " 'andlo',\n",
       " 'andls',\n",
       " 'andlt',\n",
       " 'andmi',\n",
       " 'andn',\n",
       " 'andne',\n",
       " 'andnpd',\n",
       " 'andnps',\n",
       " 'andpd',\n",
       " 'andpl',\n",
       " 'andps',\n",
       " 'ands',\n",
       " 'andseq',\n",
       " 'andsge',\n",
       " 'andsgt',\n",
       " 'andshi',\n",
       " 'andshs',\n",
       " 'andsle',\n",
       " 'andslo',\n",
       " 'andsls',\n",
       " 'andslt',\n",
       " 'andsmi',\n",
       " 'andsne',\n",
       " 'andspl',\n",
       " 'andsvc',\n",
       " 'andsvs',\n",
       " 'andvc',\n",
       " 'andvs',\n",
       " 'arpl',\n",
       " 'asr',\n",
       " 'asreq',\n",
       " 'asrge',\n",
       " 'asrgt',\n",
       " 'asrhi',\n",
       " 'asrhs',\n",
       " 'asrle',\n",
       " 'asrlo',\n",
       " 'asrls',\n",
       " 'asrlt',\n",
       " 'asrmi',\n",
       " 'asrne',\n",
       " 'asrpl',\n",
       " 'asrs',\n",
       " 'asrseq',\n",
       " 'asrsgt',\n",
       " 'asrshi',\n",
       " 'asrshs',\n",
       " 'asrslo',\n",
       " 'asrsmi',\n",
       " 'asrsne',\n",
       " 'asrspl',\n",
       " 'asrvc',\n",
       " 'asrvs',\n",
       " 'attn',\n",
       " 'ave_u',\n",
       " 'aver_s',\n",
       " 'ba',\n",
       " 'baddu',\n",
       " 'bal',\n",
       " 'bc0f',\n",
       " 'bc0fl',\n",
       " 'bc0t',\n",
       " 'bc0tl',\n",
       " 'bc1f',\n",
       " 'bc1fl',\n",
       " 'bc1t',\n",
       " 'bc1tl',\n",
       " 'bc2f',\n",
       " 'bc2fl',\n",
       " 'bc2t',\n",
       " 'bc2tl',\n",
       " 'bc3f',\n",
       " 'bc3fl',\n",
       " 'bc3t',\n",
       " 'bctr',\n",
       " 'bctrl',\n",
       " 'bdnz',\n",
       " 'bdnzl',\n",
       " 'bdz',\n",
       " 'bdza',\n",
       " 'bdzt',\n",
       " 'beq',\n",
       " 'beql',\n",
       " 'beqlr',\n",
       " 'beqz',\n",
       " 'bfc',\n",
       " 'bfceq',\n",
       " 'bfcge',\n",
       " 'bfcgt',\n",
       " 'bfchi',\n",
       " 'bfcle',\n",
       " 'bfclo',\n",
       " 'bfcls',\n",
       " 'bfclt',\n",
       " 'bfcne',\n",
       " 'bfi',\n",
       " 'bfieq',\n",
       " 'bfige',\n",
       " 'bfigt',\n",
       " 'bfihi',\n",
       " 'bfihs',\n",
       " 'bfile',\n",
       " 'bfilo',\n",
       " 'bfils',\n",
       " 'bfilt',\n",
       " 'bfimi',\n",
       " 'bfine',\n",
       " 'bfipl',\n",
       " 'bfivc',\n",
       " 'bfivs',\n",
       " 'bfxil',\n",
       " 'bge',\n",
       " 'bgelr',\n",
       " 'bgez',\n",
       " 'bgezal',\n",
       " 'bgezall',\n",
       " 'bgezl',\n",
       " 'bgt',\n",
       " 'bgtlr',\n",
       " 'bgtz',\n",
       " 'bgtzl',\n",
       " 'bhi',\n",
       " 'bhs',\n",
       " 'bic',\n",
       " 'biceq',\n",
       " 'bicge',\n",
       " 'bicgt',\n",
       " 'bichi',\n",
       " 'bichs',\n",
       " 'bicle',\n",
       " 'biclo',\n",
       " 'bicls',\n",
       " 'biclt',\n",
       " 'bicmi',\n",
       " 'bicne',\n",
       " 'bicpl',\n",
       " 'bics',\n",
       " 'bicseq',\n",
       " 'bicsge',\n",
       " 'bicsgt',\n",
       " 'bicshi',\n",
       " 'bicshs',\n",
       " 'bicsle',\n",
       " 'bicslo',\n",
       " 'bicsls',\n",
       " 'bicslt',\n",
       " 'bicsmi',\n",
       " 'bicsne',\n",
       " 'bicspl',\n",
       " 'bicsvc',\n",
       " 'bicsvs',\n",
       " 'bicvc',\n",
       " 'bicvs',\n",
       " 'bif',\n",
       " 'bit',\n",
       " 'bkpt',\n",
       " 'bl',\n",
       " 'bla',\n",
       " 'ble',\n",
       " 'blelr',\n",
       " 'blendps',\n",
       " 'bleq',\n",
       " 'blez',\n",
       " 'blezl',\n",
       " 'blge',\n",
       " 'blgt',\n",
       " 'blhi',\n",
       " 'blhs',\n",
       " 'blle',\n",
       " 'bllo',\n",
       " 'blls',\n",
       " 'bllt',\n",
       " 'blmi',\n",
       " 'blne',\n",
       " 'blo',\n",
       " 'blpl',\n",
       " 'blr',\n",
       " 'blrl',\n",
       " 'bls',\n",
       " 'blsr',\n",
       " 'blt',\n",
       " 'bltl',\n",
       " 'bltlr',\n",
       " 'bltz',\n",
       " 'bltzal',\n",
       " 'bltzall',\n",
       " 'bltzl',\n",
       " 'blvc',\n",
       " 'blvs',\n",
       " 'blx',\n",
       " 'blxeq',\n",
       " 'blxge',\n",
       " 'blxgt',\n",
       " 'blxle',\n",
       " 'blxlo',\n",
       " 'blxls',\n",
       " 'blxlt',\n",
       " 'blxmi',\n",
       " 'blxne',\n",
       " 'blxvs',\n",
       " 'bmi',\n",
       " 'bnd',\n",
       " 'bne',\n",
       " 'bnel',\n",
       " 'bnelr',\n",
       " 'bnez',\n",
       " 'bns',\n",
       " 'bnslr',\n",
       " 'bnz',\n",
       " 'bound',\n",
       " 'bpl',\n",
       " 'br',\n",
       " 'break',\n",
       " 'brk',\n",
       " 'bsf',\n",
       " 'bsl',\n",
       " 'bso',\n",
       " 'bsolr',\n",
       " 'bsr',\n",
       " 'bswap',\n",
       " 'bt',\n",
       " 'btc',\n",
       " 'btr',\n",
       " 'bts',\n",
       " 'bvc',\n",
       " 'bvs',\n",
       " 'bx',\n",
       " 'bxeq',\n",
       " 'bxge',\n",
       " 'bxgt',\n",
       " 'bxhi',\n",
       " 'bxhs',\n",
       " 'bxle',\n",
       " 'bxlo',\n",
       " 'bxls',\n",
       " 'bxlt',\n",
       " 'bxmi',\n",
       " 'bxne',\n",
       " 'bxpl',\n",
       " 'bxvs',\n",
       " 'bz',\n",
       " 'cache',\n",
       " 'call',\n",
       " 'cbnz',\n",
       " 'cbw',\n",
       " 'cbz',\n",
       " 'ccmn',\n",
       " 'ccmp',\n",
       " 'cdp',\n",
       " 'cdp2',\n",
       " 'cdp2eq',\n",
       " 'cdp2gt',\n",
       " 'cdp2hs',\n",
       " 'cdp2lt',\n",
       " 'cdp2vs',\n",
       " 'cdpeq',\n",
       " 'cdpge',\n",
       " 'cdpgt',\n",
       " 'cdphi',\n",
       " 'cdphs',\n",
       " 'cdple',\n",
       " 'cdplo',\n",
       " 'cdpls',\n",
       " 'cdplt',\n",
       " 'cdpmi',\n",
       " 'cdpne',\n",
       " 'cdppl',\n",
       " 'cdpvc',\n",
       " 'cdpvs',\n",
       " 'cdq',\n",
       " 'cdqe',\n",
       " 'cfc1',\n",
       " 'cinc',\n",
       " 'cins',\n",
       " 'cins32',\n",
       " 'cinv',\n",
       " 'clc',\n",
       " 'cld',\n",
       " 'clflush',\n",
       " 'cli',\n",
       " 'clo',\n",
       " 'clrex',\n",
       " 'clrlwi',\n",
       " 'clts',\n",
       " 'clz',\n",
       " 'clzeq',\n",
       " 'clzge',\n",
       " 'clzgt',\n",
       " 'clzhi',\n",
       " 'clzhs',\n",
       " 'clzle',\n",
       " 'clzlo',\n",
       " 'clzls',\n",
       " 'clzlt',\n",
       " 'clzmi',\n",
       " 'clzne',\n",
       " 'clzpl',\n",
       " 'cmc',\n",
       " 'cmeq',\n",
       " 'cmge',\n",
       " 'cmgt',\n",
       " 'cmhi',\n",
       " 'cmhs',\n",
       " 'cmlt',\n",
       " 'cmn',\n",
       " 'cmneq',\n",
       " 'cmnge',\n",
       " 'cmngt',\n",
       " 'cmnhi',\n",
       " 'cmnhs',\n",
       " 'cmnle',\n",
       " 'cmnlo',\n",
       " 'cmnls',\n",
       " 'cmnlt',\n",
       " 'cmnmi',\n",
       " 'cmnne',\n",
       " 'cmnpl',\n",
       " 'cmnvc',\n",
       " 'cmnvs',\n",
       " 'cmova',\n",
       " 'cmovae',\n",
       " 'cmovb',\n",
       " 'cmovbe',\n",
       " 'cmove',\n",
       " 'cmovg',\n",
       " 'cmovge',\n",
       " 'cmovl',\n",
       " 'cmovle',\n",
       " 'cmovne',\n",
       " 'cmovno',\n",
       " 'cmovnp',\n",
       " 'cmovns',\n",
       " 'cmovo',\n",
       " 'cmovp',\n",
       " 'cmovs',\n",
       " 'cmp',\n",
       " 'cmpdi',\n",
       " 'cmpeq',\n",
       " 'cmpeqps',\n",
       " 'cmpeqsd',\n",
       " 'cmpeqss',\n",
       " 'cmpge',\n",
       " 'cmpgt',\n",
       " 'cmphi',\n",
       " 'cmphs',\n",
       " 'cmpldi',\n",
       " 'cmple',\n",
       " 'cmplepd',\n",
       " 'cmpleps',\n",
       " 'cmplesd',\n",
       " 'cmpless',\n",
       " 'cmplo',\n",
       " 'cmpls',\n",
       " 'cmplt',\n",
       " 'cmpltpd',\n",
       " 'cmpltps',\n",
       " 'cmpltsd',\n",
       " 'cmpltss',\n",
       " 'cmplw',\n",
       " 'cmplwi',\n",
       " 'cmpmi',\n",
       " 'cmpne',\n",
       " 'cmpneqsd',\n",
       " 'cmpnlesd',\n",
       " 'cmpnless',\n",
       " 'cmpnltps',\n",
       " 'cmpnltsd',\n",
       " 'cmpnltss',\n",
       " 'cmpordsd',\n",
       " 'cmppd',\n",
       " 'cmppl',\n",
       " 'cmpps',\n",
       " 'cmpsb',\n",
       " 'cmpsd',\n",
       " 'cmpsq',\n",
       " 'cmpsw',\n",
       " 'cmpvc',\n",
       " 'cmpvs',\n",
       " 'cmpw',\n",
       " 'cmpwi',\n",
       " 'cmpxchg',\n",
       " 'cmpxchg8b',\n",
       " 'cneg',\n",
       " 'cntlz',\n",
       " 'comisd',\n",
       " 'comiss',\n",
       " 'cps',\n",
       " 'cpsid',\n",
       " 'cpsie',\n",
       " 'cpuid',\n",
       " 'cqo',\n",
       " 'crandc',\n",
       " 'crc32',\n",
       " 'crc32b',\n",
       " 'crc32cb',\n",
       " 'crc32ch',\n",
       " 'crc32cw',\n",
       " 'crc32cx',\n",
       " 'crc32h',\n",
       " 'crc32w',\n",
       " 'crc32x',\n",
       " 'crclr',\n",
       " 'creqv',\n",
       " 'crnot',\n",
       " 'cror',\n",
       " 'crset',\n",
       " 'csel',\n",
       " 'cset',\n",
       " 'csetm',\n",
       " 'csinc',\n",
       " 'csinv',\n",
       " 'csneg',\n",
       " 'ctc1',\n",
       " 'cvt',\n",
       " 'cvtdq2pd',\n",
       " 'cvtdq2ps',\n",
       " 'cvtpd2ps',\n",
       " 'cvtpi2ps',\n",
       " 'cvtps2dq',\n",
       " 'cvtps2pd',\n",
       " 'cvtps2pi',\n",
       " 'cvtsd2si',\n",
       " 'cvtsd2ss',\n",
       " 'cvtsi2sd',\n",
       " 'cvtsi2ss',\n",
       " 'cvtss2sd',\n",
       " 'cvtss2si',\n",
       " 'cvttpd2dq',\n",
       " 'cvttpd2pi',\n",
       " 'cvttps2dq',\n",
       " 'cvttps2pi',\n",
       " 'cvttsd2si',\n",
       " 'cvttss2si',\n",
       " 'cwd',\n",
       " 'cwde',\n",
       " 'daa',\n",
       " 'dadd',\n",
       " 'daddi',\n",
       " 'daddiu',\n",
       " 'daddu',\n",
       " 'das',\n",
       " 'dc',\n",
       " 'dcbf',\n",
       " 'dcbi',\n",
       " 'dcbst',\n",
       " 'dcbt',\n",
       " 'dcbtst',\n",
       " 'dcbz',\n",
       " 'dclo',\n",
       " 'dclz',\n",
       " 'ddiv',\n",
       " 'ddivu',\n",
       " 'dec',\n",
       " 'dext',\n",
       " 'dextm',\n",
       " 'dextu',\n",
       " 'di',\n",
       " 'dins',\n",
       " 'dinsm',\n",
       " 'dinsu',\n",
       " 'div',\n",
       " 'divpd',\n",
       " 'divps',\n",
       " 'divsd',\n",
       " 'divss',\n",
       " 'divu',\n",
       " 'divw',\n",
       " 'divwu',\n",
       " 'dmb',\n",
       " 'dmbeq',\n",
       " 'dmbne',\n",
       " 'dmfc0',\n",
       " 'dmfc1',\n",
       " 'dmfc2',\n",
       " 'dmtc0',\n",
       " 'dmtc1',\n",
       " 'dmtc2',\n",
       " 'dmul',\n",
       " 'dmult',\n",
       " 'dmultu',\n",
       " 'dpau',\n",
       " 'drotr',\n",
       " 'drotr32',\n",
       " 'dsb',\n",
       " 'dsll',\n",
       " 'dsll32',\n",
       " 'dsllv',\n",
       " 'dsra',\n",
       " 'dsra32',\n",
       " 'dsrav',\n",
       " 'dsrl',\n",
       " 'dsrl32',\n",
       " 'dsrlv',\n",
       " 'dsub',\n",
       " 'dsubu',\n",
       " 'dup',\n",
       " 'ehb',\n",
       " 'ei',\n",
       " 'eieio',\n",
       " 'emms',\n",
       " 'endbr32',\n",
       " 'endbr64',\n",
       " 'enter',\n",
       " 'eon',\n",
       " 'eor',\n",
       " 'eoreq',\n",
       " 'eorge',\n",
       " 'eorgt',\n",
       " 'eorhi',\n",
       " 'eorhs',\n",
       " 'eorle',\n",
       " 'eorlo',\n",
       " 'eorls',\n",
       " 'eorlt',\n",
       " 'eormi',\n",
       " 'eorne',\n",
       " 'eorpl',\n",
       " 'eors',\n",
       " 'eorseq',\n",
       " 'eorsge',\n",
       " 'eorsgt',\n",
       " 'eorshi',\n",
       " 'eorshs',\n",
       " 'eorsle',\n",
       " 'eorslo',\n",
       " 'eorsls',\n",
       " 'eorslt',\n",
       " 'eorsmi',\n",
       " 'eorsne',\n",
       " 'eorspl',\n",
       " 'eorsvc',\n",
       " 'eorsvs',\n",
       " 'eorvc',\n",
       " 'eorvs',\n",
       " 'eq',\n",
       " 'eqv',\n",
       " 'eret',\n",
       " 'ext',\n",
       " 'extr',\n",
       " 'extractps',\n",
       " 'extrv_rs',\n",
       " 'exts',\n",
       " 'extsb',\n",
       " 'extsh',\n",
       " 'f16',\n",
       " 'f2xm1',\n",
       " 'f32',\n",
       " 'f64',\n",
       " 'fabs',\n",
       " 'fadd',\n",
       " 'faddp',\n",
       " 'fadds',\n",
       " 'fbld',\n",
       " 'fbstp',\n",
       " 'fccmp',\n",
       " 'fchs',\n",
       " 'fcmovb',\n",
       " 'fcmovbe',\n",
       " 'fcmove',\n",
       " 'fcmovnb',\n",
       " 'fcmovnbe',\n",
       " 'fcmovne',\n",
       " 'fcmovnu',\n",
       " 'fcmovu',\n",
       " 'fcmp',\n",
       " 'fcmpe',\n",
       " 'fcmpu',\n",
       " 'fcom',\n",
       " 'fcomi',\n",
       " 'fcomip',\n",
       " 'fcomp',\n",
       " 'fcompp',\n",
       " 'fcor',\n",
       " 'fcos',\n",
       " 'fcsel',\n",
       " 'fctiw',\n",
       " 'fctiwz',\n",
       " 'fcvt',\n",
       " 'fcvtas',\n",
       " 'fcvtmu',\n",
       " 'fcvtpu',\n",
       " 'fcvtzs',\n",
       " 'fcvtzu',\n",
       " 'fdecstp',\n",
       " 'fdiv',\n",
       " 'fdivp',\n",
       " 'fdivr',\n",
       " 'fdivrp',\n",
       " 'fdivs',\n",
       " 'femms',\n",
       " 'feni8087_nop',\n",
       " 'ffree',\n",
       " 'ffreep',\n",
       " 'fiadd',\n",
       " 'ficom',\n",
       " 'ficomp',\n",
       " 'fidiv',\n",
       " 'fidivr',\n",
       " 'fild',\n",
       " 'fimul',\n",
       " 'fincstp',\n",
       " 'fist',\n",
       " 'fistp',\n",
       " 'fisttp',\n",
       " 'fisub',\n",
       " 'fisubr',\n",
       " 'fld',\n",
       " 'fld1',\n",
       " 'fldcw',\n",
       " 'fldenv',\n",
       " 'fldl2e',\n",
       " 'fldl2t',\n",
       " 'fldlg2',\n",
       " 'fldln2',\n",
       " 'fldmdbx',\n",
       " 'fldmdbxge',\n",
       " 'fldmdbxhs',\n",
       " 'fldmdbxls',\n",
       " 'fldmdbxne',\n",
       " 'fldmdbxvc',\n",
       " 'fldmiax',\n",
       " 'fldmiaxeq',\n",
       " 'fldmiaxmi',\n",
       " 'fldpi',\n",
       " 'fldz',\n",
       " 'fmadd',\n",
       " 'fmadds',\n",
       " 'fmov',\n",
       " 'fmr',\n",
       " 'fmsub',\n",
       " 'fmsubs',\n",
       " 'fmul',\n",
       " 'fmulp',\n",
       " 'fmuls',\n",
       " 'fnabs',\n",
       " 'fnclex',\n",
       " 'fneg',\n",
       " 'fninit',\n",
       " 'fnmadd',\n",
       " 'fnmsub',\n",
       " 'fnmsubs',\n",
       " 'fnmul',\n",
       " 'fnop',\n",
       " 'fnsave',\n",
       " 'fnstcw',\n",
       " 'fnstenv',\n",
       " 'fnstsw',\n",
       " 'fpatan',\n",
       " 'fprem',\n",
       " 'fprem1',\n",
       " 'fptan',\n",
       " 'frinta',\n",
       " 'frintm',\n",
       " 'frintp',\n",
       " 'frintz',\n",
       " 'frndint',\n",
       " 'frsp',\n",
       " 'frstor',\n",
       " 'fscale',\n",
       " 'fsel',\n",
       " 'fsetpm',\n",
       " 'fsin',\n",
       " 'fsincos',\n",
       " 'fsqrt',\n",
       " 'fsqrts',\n",
       " 'fst',\n",
       " 'fstmdbx',\n",
       " 'fstmdbxhs',\n",
       " 'fstmdbxle',\n",
       " 'fstmdbxlo',\n",
       " 'fstmdbxls',\n",
       " 'fstmdbxmi',\n",
       " 'fstmdbxne',\n",
       " 'fstmdbxpl',\n",
       " 'fstmiax',\n",
       " 'fstmiaxeq',\n",
       " 'fstmiaxge',\n",
       " 'fstmiaxhi',\n",
       " 'fstmiaxle',\n",
       " 'fstmiaxmi',\n",
       " 'fstmiaxne',\n",
       " 'fstmiaxvc',\n",
       " 'fstmiaxvs',\n",
       " 'fstp',\n",
       " 'fstpnce',\n",
       " 'fsub',\n",
       " 'fsubp',\n",
       " 'fsubr',\n",
       " 'fsubrp',\n",
       " 'fsubs',\n",
       " 'ftst',\n",
       " 'fucom',\n",
       " 'fucomi',\n",
       " 'fucomip',\n",
       " 'fucomp',\n",
       " 'fucompp',\n",
       " 'fxam',\n",
       " 'fxch',\n",
       " 'fxrstor',\n",
       " 'fxsave',\n",
       " 'fxtract',\n",
       " 'fyl2x',\n",
       " 'fyl2xp1',\n",
       " 'ge',\n",
       " 'getsec',\n",
       " 'gt',\n",
       " 'haddpd',\n",
       " 'haddps',\n",
       " 'hb',\n",
       " 'hi',\n",
       " 'hint',\n",
       " 'hinteq',\n",
       " 'hintge',\n",
       " 'hintlt',\n",
       " 'hintpl',\n",
       " 'hintvc',\n",
       " 'hlt',\n",
       " 'hs',\n",
       " 'hsubps',\n",
       " 'hvc',\n",
       " 'i16',\n",
       " 'i32',\n",
       " 'i64',\n",
       " 'i8',\n",
       " 'ic',\n",
       " 'icbi',\n",
       " 'idiv',\n",
       " 'imul',\n",
       " 'in',\n",
       " 'inc',\n",
       " 'ins',\n",
       " 'insb',\n",
       " 'insd',\n",
       " 'insw',\n",
       " 'int',\n",
       " 'int1',\n",
       " 'int3',\n",
       " 'into',\n",
       " 'invd',\n",
       " 'iret',\n",
       " 'iretd',\n",
       " 'iretq',\n",
       " 'isb',\n",
       " 'isync',\n",
       " 'it',\n",
       " 'ite',\n",
       " 'itee',\n",
       " 'iteee',\n",
       " 'iteet',\n",
       " 'itet',\n",
       " 'itete',\n",
       " 'itett',\n",
       " 'itt',\n",
       " 'itte',\n",
       " 'ittee',\n",
       " 'ittet',\n",
       " 'ittt',\n",
       " 'ittte',\n",
       " 'itttt',\n",
       " 'ja',\n",
       " 'jae',\n",
       " 'jal',\n",
       " 'jalr',\n",
       " 'jalx',\n",
       " 'jb',\n",
       " 'jbe',\n",
       " 'jcxz',\n",
       " 'je',\n",
       " 'jecxz',\n",
       " 'jg',\n",
       " 'jge',\n",
       " 'jl',\n",
       " 'jle',\n",
       " 'jmp',\n",
       " 'jne',\n",
       " 'jno',\n",
       " 'jnp',\n",
       " 'jns',\n",
       " 'jo',\n",
       " 'jp',\n",
       " 'jr',\n",
       " 'jrcxz',\n",
       " 'js',\n",
       " 'kmovw',\n",
       " 'kortestw',\n",
       " 'lahf',\n",
       " 'lar',\n",
       " 'lb',\n",
       " 'lbu',\n",
       " 'lbux',\n",
       " 'lbz',\n",
       " 'lbzu',\n",
       " 'lbzux',\n",
       " 'lbzx',\n",
       " 'lcall',\n",
       " 'ld',\n",
       " 'ld1',\n",
       " 'ld1r',\n",
       " 'ld2',\n",
       " 'ld3',\n",
       " 'ld4',\n",
       " 'ldar',\n",
       " 'ldarb',\n",
       " 'ldaxr',\n",
       " 'ldaxrb',\n",
       " 'ldaxrh',\n",
       " 'ldc',\n",
       " 'ldc1',\n",
       " 'ldc2',\n",
       " 'ldc2eq',\n",
       " 'ldc2ge',\n",
       " 'ldc2gt',\n",
       " 'ldc2hi',\n",
       " 'ldc2hs',\n",
       " 'ldc2l',\n",
       " 'ldc2le',\n",
       " 'ldc2lhs',\n",
       " 'ldc2llo',\n",
       " 'ldc2llt',\n",
       " 'ldc2lne',\n",
       " 'ldc2lpl',\n",
       " 'ldc2ls',\n",
       " 'ldc2lt',\n",
       " 'ldc2ne',\n",
       " 'ldc2vc',\n",
       " 'ldc2vs',\n",
       " 'ldceq',\n",
       " 'ldcge',\n",
       " 'ldcgt',\n",
       " 'ldchi',\n",
       " 'ldchs',\n",
       " 'ldcl',\n",
       " 'ldcle',\n",
       " 'ldcleq',\n",
       " 'ldclge',\n",
       " 'ldclgt',\n",
       " 'ldclhi',\n",
       " 'ldclhs',\n",
       " 'ldclle',\n",
       " 'ldcllo',\n",
       " 'ldclls',\n",
       " 'ldcllt',\n",
       " 'ldclmi',\n",
       " 'ldclne',\n",
       " 'ldclo',\n",
       " 'ldclpl',\n",
       " 'ldcls',\n",
       " 'ldclt',\n",
       " 'ldclvc',\n",
       " 'ldclvs',\n",
       " 'ldcmi',\n",
       " 'ldcne',\n",
       " 'ldcpl',\n",
       " 'ldcvc',\n",
       " 'ldcvs',\n",
       " 'lddqu',\n",
       " 'ldl',\n",
       " 'ldm',\n",
       " 'ldmda',\n",
       " 'ldmdaeq',\n",
       " 'ldmdage',\n",
       " 'ldmdagt',\n",
       " 'ldmdahi',\n",
       " 'ldmdahs',\n",
       " 'ldmdale',\n",
       " 'ldmdalo',\n",
       " 'ldmdals',\n",
       " ...]"
      ]
     },
     "execution_count": 274,
     "metadata": {},
     "output_type": "execute_result"
    }
   ],
   "source": [
    "vectorizer.get_feature_names()"
   ]
  },
  {
   "cell_type": "code",
   "execution_count": 49,
   "id": "c4501a09-cd43-42a3-8f5f-cba34b9285e6",
   "metadata": {},
   "outputs": [
    {
     "name": "stderr",
     "output_type": "stream",
     "text": [
      "100%|██████████████████████████████████████████████████████████████████████████████████████████████████████████████████| 4363/4363 [00:16<00:00, 263.37it/s]\n"
     ]
    }
   ],
   "source": [
    "number = []\n",
    "for i in trange(len(vectorizer.get_feature_names())):\n",
    "    number.append(sum(x[:,i]))"
   ]
  },
  {
   "cell_type": "code",
   "execution_count": 45,
   "id": "879b8a47-f5d0-4d1f-a25b-a2afc96d1c12",
   "metadata": {
    "tags": []
   },
   "outputs": [
    {
     "data": {
      "text/plain": [
       "4363"
      ]
     },
     "execution_count": 45,
     "metadata": {},
     "output_type": "execute_result"
    }
   ],
   "source": [
    "len(vectorizer.get_feature_names())"
   ]
  },
  {
   "cell_type": "code",
   "execution_count": 64,
   "id": "be79fbc7-fe8c-44ea-965e-33d80e4d25e2",
   "metadata": {
    "tags": []
   },
   "outputs": [],
   "source": [
    "number_100 = sorted(list(map(number.index , heapq.nlargest(100,number)))) "
   ]
  },
  {
   "cell_type": "code",
   "execution_count": 70,
   "id": "f0c6f1b0-f542-46fb-b2f2-5365f3923ab1",
   "metadata": {},
   "outputs": [],
   "source": [
    "number_100_feature = []\n",
    "for i in number_100:\n",
    "    number_100_feature.append(vectorizer.get_feature_names()[i])"
   ]
  },
  {
   "cell_type": "code",
   "execution_count": 74,
   "id": "fbddae2d-7507-4d9a-858b-df84e261a12c",
   "metadata": {},
   "outputs": [],
   "source": [
    "np.save('top_100_feature' , number_100_feature)"
   ]
  },
  {
   "cell_type": "markdown",
   "id": "fc6fd634-6d7f-4d84-ac24-177f4d304d96",
   "metadata": {
    "jp-MarkdownHeadingCollapsed": true,
    "tags": []
   },
   "source": [
    "# clean not top feature"
   ]
  },
  {
   "cell_type": "code",
   "execution_count": 44,
   "id": "c949eaf6-947e-4a0b-a2b2-ac8b4c5e1cd1",
   "metadata": {},
   "outputs": [],
   "source": [
    "top_feature = np.load('./top_100_feature.npy').tolist()"
   ]
  },
  {
   "cell_type": "code",
   "execution_count": 45,
   "id": "d3a3ae7d-2c78-4a60-a69d-8fee1a5a9414",
   "metadata": {},
   "outputs": [
    {
     "name": "stderr",
     "output_type": "stream",
     "text": [
      "100%|█████████████████████████████████████████████████████████████████████████████████████████████████████████████████| 40379/40379 [12:12<00:00, 55.15it/s]\n",
      "100%|█████████████████████████████████████████████████████████████████████████████████████████████████████████████████| 43535/43535 [16:34<00:00, 43.78it/s]\n"
     ]
    }
   ],
   "source": [
    "#clean empty file\n",
    "X = []\n",
    "for i in tqdm(malware_file_name):\n",
    "    try:\n",
    "        t = np.load(malware_path + '/' + i, encoding = \"ASCII\")\n",
    "        tmp = \"\"\n",
    "        if(len(t) != 0):\n",
    "            for j in t:\n",
    "                if(j in top_feature):\n",
    "                    tmp += str(j + \" \")\n",
    "            X.append(tmp[:-1])\n",
    "        else:\n",
    "            X.append(tmp)\n",
    "    except:\n",
    "        pass\n",
    "malware_length = len(X) \n",
    "for i in tqdm(benign_file_name):\n",
    "    try:\n",
    "        t = np.load(benign_path + '/' + i, encoding = \"ASCII\")\n",
    "        tmp = \"\"\n",
    "        if(len(t) != 0):\n",
    "            for j in t:\n",
    "                if(j in top_feature):\n",
    "                    tmp += str(j + \" \")\n",
    "            X.append(tmp[:-1])\n",
    "        else:\n",
    "            X.append(tmp)\n",
    "    except:\n",
    "        pass\n",
    "benign_length = len(X) - malware_length\n",
    "\n",
    "y = labling(benign_length , malware_length)"
   ]
  },
  {
   "cell_type": "markdown",
   "id": "6b45bd66-7d06-4e20-bd12-c6da2a14fcda",
   "metadata": {
    "jp-MarkdownHeadingCollapsed": true,
    "tags": []
   },
   "source": [
    "# Create clean npy"
   ]
  },
  {
   "cell_type": "code",
   "execution_count": 10,
   "id": "0ff22adb-e2b1-4c73-b216-b936606aef05",
   "metadata": {},
   "outputs": [
    {
     "name": "stderr",
     "output_type": "stream",
     "text": [
      "100%|█████████████████████████████████████████████████████████████████████████████████████████████████████████████████████████████████████████████████████████████████| 40380/40380 [11:25<00:00, 58.90it/s]\n",
      "100%|█████████████████████████████████████████████████████████████████████████████████████████████████████████████████████████████████████████████████████████████████| 43536/43536 [14:50<00:00, 48.91it/s]\n"
     ]
    }
   ],
   "source": [
    "for i in tqdm(malware_file_name):\n",
    "    try:\n",
    "        t = np.load(malware_path + '/' + i, encoding = \"ASCII\")\n",
    "        tmp = []\n",
    "        if(len(t) != 0):\n",
    "            for j in t:\n",
    "                if(j in top_feature):\n",
    "                    tmp.append(j)\n",
    "        np.save('./malware_process_npy/' + i[:-4] , tmp)\n",
    "    except:\n",
    "        pass\n",
    "\n",
    "for i in tqdm(benign_file_name):\n",
    "    try:\n",
    "        t = np.load(benign_path + '/' + i, encoding = \"ASCII\")\n",
    "        tmp = []\n",
    "        if(len(t) != 0):\n",
    "            for j in t:\n",
    "                if(j in top_feature):\n",
    "                    tmp.append(j)\n",
    "        np.save('./benignware_process_npy/' + i[:-4] , tmp)\n",
    "    except:\n",
    "        pass"
   ]
  },
  {
   "cell_type": "markdown",
   "id": "b97c596e-b85d-47b1-862e-43daf10a5a87",
   "metadata": {
    "jp-MarkdownHeadingCollapsed": true,
    "tags": []
   },
   "source": [
    "# count times"
   ]
  },
  {
   "cell_type": "code",
   "execution_count": 88,
   "id": "45a04865-9b65-49b5-b2d3-cad6f46c8ce8",
   "metadata": {},
   "outputs": [],
   "source": [
    "vectorizer = CountVectorizer()\n",
    "x = vectorizer.fit_transform(X)\n",
    "x = x.toarray()"
   ]
  },
  {
   "cell_type": "code",
   "execution_count": 91,
   "id": "7501821d-2f9a-4da0-a454-484d535d2706",
   "metadata": {
    "tags": []
   },
   "outputs": [],
   "source": [
    "feature_name = vectorizer.get_feature_names()"
   ]
  },
  {
   "cell_type": "markdown",
   "id": "c03484e8-f9e8-4993-acad-8f2bc85caae8",
   "metadata": {
    "tags": []
   },
   "source": [
    "# create record file"
   ]
  },
  {
   "cell_type": "code",
   "execution_count": 9,
   "id": "b55974ef-9d0a-486a-97a9-e07dcfd88a4d",
   "metadata": {},
   "outputs": [],
   "source": [
    "def get_index(seq , item):\n",
    "    result = np.where(seq == item)[0]\n",
    "    result = result.tolist()\n",
    "    return result"
   ]
  },
  {
   "cell_type": "code",
   "execution_count": 10,
   "id": "f1cc1b0a-8a4f-4d6c-8cad-2641ae54c039",
   "metadata": {},
   "outputs": [],
   "source": [
    "def get_sorted_index(count):\n",
    "    result = []\n",
    "    for i in range(100):\n",
    "        m = count.index(max(count))\n",
    "        result.append(m)\n",
    "        count[m] = -1\n",
    "    return result"
   ]
  },
  {
   "cell_type": "code",
   "execution_count": 11,
   "id": "c0c2f741-1296-4eee-848c-166aa4aa8a07",
   "metadata": {},
   "outputs": [],
   "source": [
    "def producer(times_count , seq):\n",
    "    tmp = []\n",
    "    sorted_index = get_sorted_index(times_count)\n",
    "    for i in sorted_index:\n",
    "        tmp.append((i , get_index(seq , i)))\n",
    "    return tmp"
   ]
  },
  {
   "cell_type": "code",
   "execution_count": 5,
   "id": "d414a3b5-5cc2-40a0-b030-f3dce521654c",
   "metadata": {},
   "outputs": [],
   "source": [
    "x = np.load('./top__feature_times_count.npy')"
   ]
  },
  {
   "cell_type": "code",
   "execution_count": 6,
   "id": "f0d3d584-b303-4ae1-9403-857d113156c5",
   "metadata": {},
   "outputs": [],
   "source": [
    "feature_name = np.load('./feature_name.npy')"
   ]
  },
  {
   "cell_type": "code",
   "execution_count": 7,
   "id": "3d886523-1dba-4c39-9385-b4c9baca8506",
   "metadata": {},
   "outputs": [],
   "source": [
    "feature_name = feature_name.tolist()"
   ]
  },
  {
   "cell_type": "code",
   "execution_count": 8,
   "id": "f6591170-64a0-41da-9314-f87eaf74eab5",
   "metadata": {},
   "outputs": [],
   "source": [
    "table = dict(zip(feature_name,range(100)))"
   ]
  },
  {
   "cell_type": "code",
   "execution_count": 57,
   "id": "104078bf-f861-4929-917c-4a14bd5506ce",
   "metadata": {
    "tags": []
   },
   "outputs": [
    {
     "name": "stderr",
     "output_type": "stream",
     "text": [
      "100%|██████████████████████████████████████████████████████████████████████████████████████████████████████████████████| 40378/40378 [04:15<00:00, 158.32it/s]\n"
     ]
    }
   ],
   "source": [
    "for i in trange(len(malware_file_name)):\n",
    "    data_store = []\n",
    "    file_content = np.load('./malware_process_npy/' + malware_file_name[i])\n",
    "    file_content = file_content.tolist()\n",
    "    for j in range(len(file_content)):\n",
    "        file_content[j] = table[file_content[j]]\n",
    "    file_content = np.array(file_content)\n",
    "    result = producer(x[i,:].tolist(),file_content)\n",
    "    data_store.append(result)\n",
    "    np.save('./malware_record/'+ malware_file_name[i][:-4] , data_store)\n"
   ]
  },
  {
   "cell_type": "code",
   "execution_count": 12,
   "id": "ebbbb471-7c13-4a8b-9c4a-2b9ab684f2e8",
   "metadata": {},
   "outputs": [
    {
     "name": "stderr",
     "output_type": "stream",
     "text": [
      "  0%|                                                                                                                               | 0/43534 [00:00<?, ?it/s]/home/jim/anaconda3/lib/python3.9/site-packages/numpy/core/_asarray.py:171: VisibleDeprecationWarning: Creating an ndarray from ragged nested sequences (which is a list-or-tuple of lists-or-tuples-or ndarrays with different lengths or shapes) is deprecated. If you meant to do this, you must specify 'dtype=object' when creating the ndarray.\n",
      "  return array(a, dtype, copy=False, order=order, subok=True)\n",
      "100%|██████████████████████████████████████████████████████████████████████████████████████████████████████████████████| 43534/43534 [04:54<00:00, 147.80it/s]\n"
     ]
    }
   ],
   "source": [
    "for i in trange(len(benign_file_name)):\n",
    "    data_store = []\n",
    "    file_content = np.load('./benignware_process_npy/' + benign_file_name[i])\n",
    "    file_content = file_content.tolist()\n",
    "    for j in range(len(file_content)):\n",
    "        file_content[j] = table[file_content[j]]\n",
    "    file_content = np.array(file_content)\n",
    "    result = producer(x[len(malware_file_name)+i,:].tolist(),file_content)\n",
    "    data_store.append(result)\n",
    "    np.save('./benignware_record/'+ benign_file_name[i][:-4] , data_store)"
   ]
  },
  {
   "cell_type": "markdown",
   "id": "4c4fc8ea-179f-4bc1-a9b3-56c0176c97c1",
   "metadata": {
    "jp-MarkdownHeadingCollapsed": true,
    "tags": []
   },
   "source": [
    "# generate graph"
   ]
  },
  {
   "cell_type": "code",
   "execution_count": 6,
   "id": "c159e00d-f860-439c-bc92-45656a6db68b",
   "metadata": {},
   "outputs": [],
   "source": [
    "def function(times_list_1 , times_list_2):\n",
    "    a = 1\n",
    "    e = 2.71\n",
    "    result = 0\n",
    "    for l in times_list_1:\n",
    "        min_list = []\n",
    "        for j in times_list_2:\n",
    "            min_list.append(abs(l - j - 1))\n",
    "        number = min(min_list)\n",
    "        tmp = 2/(1+(a*(e**(number))))\n",
    "        result += tmp\n",
    "    return result"
   ]
  },
  {
   "cell_type": "code",
   "execution_count": null,
   "id": "ae6a53d3-9e76-4513-82ff-c48436ea0966",
   "metadata": {},
   "outputs": [
    {
     "name": "stderr",
     "output_type": "stream",
     "text": [
      "  0%|                                                                                                                                                                             | 0/40378 [00:00<?, ?it/s]"
     ]
    }
   ],
   "source": [
    "for m in tqdm(malware_file_name):\n",
    "    data = np.load('./malware_record/'+ m , allow_pickle=True)\n",
    "    data = data.tolist()[0]\n",
    "    matrix = np.zeros((100,100))\n",
    "    for i in range(100):\n",
    "        if(data[i][1] == []):\n",
    "            break\n",
    "        for k in range(5):\n",
    "            try:\n",
    "                matrix[data[i][0] , data[i+k][0]] = function(data[i][1],data[i+k][1])\n",
    "            except:\n",
    "                pass\n",
    "    np.save('./test/'+ m[:-4] , matrix)"
   ]
  },
  {
   "cell_type": "code",
   "execution_count": null,
   "id": "0e31e4f8-d07f-4286-a354-c6c4dc240d5e",
   "metadata": {},
   "outputs": [
    {
     "name": "stderr",
     "output_type": "stream",
     "text": [
      "  0%|                                                                                                                  | 1/43534 [00:04<56:28:32,  4.67s/it]"
     ]
    }
   ],
   "source": [
    "for m in tqdm(benign_file_name):\n",
    "    data = np.load('./benignware_record/'+ m , allow_pickle=True)\n",
    "    data = data.tolist()[0]\n",
    "    matrix = np.zeros((100,100))\n",
    "    flag = 0\n",
    "    for i in range(100):\n",
    "        if(data[i][1] == []):\n",
    "            break\n",
    "        for k in range(5):\n",
    "            try:\n",
    "                if(data[i+k][1] == []):\n",
    "                    flag = 1\n",
    "                    break\n",
    "                matrix[data[i][0] , data[i+k][0]] = function(data[i][1],data[i+k][1])\n",
    "            except:\n",
    "                pass\n",
    "        if(flag == 1):\n",
    "            break\n",
    "    np.save('./benignware_graph/'+ m[:-4] , matrix)"
   ]
  },
  {
   "cell_type": "code",
   "execution_count": 10,
   "id": "76c6064d-fc3f-40aa-ae7b-7c57c433852f",
   "metadata": {
    "tags": []
   },
   "outputs": [],
   "source": [
    "data = np.load('./benignware_record/'+ benign_file_name[0] , allow_pickle=True)\n",
    "data = data.tolist()[0]\n",
    "matrix = np.zeros((100,100))\n",
    "flag = 0\n",
    "for i in range(100):\n",
    "    if(data[i][1] == []):\n",
    "        break\n",
    "    for k in range(5):\n",
    "        try:\n",
    "            if(data[i+k][1] == []):\n",
    "                flag = 1\n",
    "                break\n",
    "            matrix[data[i][0] , data[i+k][0]] = function(data[i][1],data[i+k][1])\n",
    "        except:\n",
    "            pass\n",
    "    if(flag == 1):\n",
    "        break"
   ]
  },
  {
   "cell_type": "markdown",
   "id": "4edd2472-8965-4ef8-a9dd-809681ba6c17",
   "metadata": {
    "tags": []
   },
   "source": [
    "# Eigenvector"
   ]
  },
  {
   "cell_type": "code",
   "execution_count": 5,
   "id": "30789cdf-c6c4-4250-9273-b9d846a54759",
   "metadata": {},
   "outputs": [],
   "source": [
    "benign_graph_path = './benignware_graph/'\n",
    "malware_graph_path = './malware_graph/'\n",
    "benign_graph = sorted(os.listdir(benign_graph_path))\n",
    "malware_graph = sorted(os.listdir(malware_graph_path))"
   ]
  },
  {
   "cell_type": "code",
   "execution_count": 6,
   "id": "5a3a670c-3183-43ec-9575-64a2289aab1d",
   "metadata": {},
   "outputs": [
    {
     "data": {
      "text/plain": [
       "'.ipynb_checkpoints'"
      ]
     },
     "execution_count": 6,
     "metadata": {},
     "output_type": "execute_result"
    }
   ],
   "source": [
    "malware_graph.pop(0)\n",
    "benign_graph.pop(0)"
   ]
  },
  {
   "cell_type": "markdown",
   "id": "67e9a225-b753-4b22-9ea2-d7d5bf4372d0",
   "metadata": {
    "tags": []
   },
   "source": [
    "## Malware/Benignware"
   ]
  },
  {
   "cell_type": "code",
   "execution_count": 8,
   "id": "73b0f9f7-60a6-47de-b490-bf6ee8ef23a4",
   "metadata": {},
   "outputs": [
    {
     "name": "stderr",
     "output_type": "stream",
     "text": [
      "100%|███████████████████████████████████████████████████████████████████████████████████████████████████████████████████| 5284/5284 [00:01<00:00, 2709.35it/s]\n",
      "100%|███████████████████████████████████████████████████████████████████████████████████████████████████████████████████| 4880/4880 [00:01<00:00, 2749.52it/s]\n"
     ]
    }
   ],
   "source": [
    "X_benign = []\n",
    "X_malware = []\n",
    "for i in tqdm(malware_graph):\n",
    "    matrix = np.load(malware_graph_path + i)\n",
    "    val,vec = np.linalg.eig(matrix)\n",
    "    val = val.tolist()\n",
    "    vec = vec.tolist()\n",
    "    max_number_index = []\n",
    "    for j in range(2):\n",
    "        s = val.index(max(val))\n",
    "        max_number_index.append(s)\n",
    "        val[s] = -1\n",
    "    two_eigenvector = vec[max_number_index[0]]+vec[max_number_index[1]]\n",
    "    X_benign.append(two_eigenvector)\n",
    "benign_length = len(X_benign)\n",
    "\n",
    "for i in tqdm(benign_graph):\n",
    "    matrix = np.load(benign_graph_path + i)\n",
    "    val,vec = np.linalg.eig(matrix)\n",
    "    val = val.tolist()\n",
    "    vec = vec.tolist()\n",
    "    max_number_index = []\n",
    "    for j in range(2):\n",
    "        s = val.index(max(val))\n",
    "        max_number_index.append(s)\n",
    "        val[s] = -1\n",
    "    two_eigenvector = vec[max_number_index[0]]+vec[max_number_index[1]]\n",
    "    X_malware.append(two_eigenvector)\n",
    "\n",
    "malware_length = len(X_malware)\n",
    "y_benign = np.zeros(benign_length).tolist()\n",
    "y_malware = np.ones(malware_length).tolist()\n",
    "\n"
   ]
  },
  {
   "cell_type": "code",
   "execution_count": 6,
   "id": "b83de16d-afcc-4e12-8b30-0a7293def53b",
   "metadata": {},
   "outputs": [
    {
     "name": "stderr",
     "output_type": "stream",
     "text": [
      "/home/jim/anaconda3/lib/python3.9/site-packages/IPython/core/interactiveshell.py:3444: DtypeWarning: Columns (2) have mixed types.Specify dtype option on import or set low_memory=False.\n",
      "  exec(code_obj, self.user_global_ns, self.user_ns)\n"
     ]
    }
   ],
   "source": [
    "import pandas as pd\n",
    "filename_csv = pd.read_csv('/mnt/dataset/dataset.csv')\n",
    "filename = list(filename_csv.iloc[:,0])\n",
    "label = list(filename_csv.iloc[:,1])\n",
    "table = dict(zip(set(label), range(10)))"
   ]
  },
  {
   "cell_type": "code",
   "execution_count": 7,
   "id": "655232e5-c887-4ee8-8bc4-cfbe22b5ffbc",
   "metadata": {},
   "outputs": [
    {
     "data": {
      "text/plain": [
       "{'BenignWare': 0,\n",
       " 'Android': 1,\n",
       " 'Mirai': 2,\n",
       " 'Bashlite': 3,\n",
       " 'Hajime': 4,\n",
       " 'Dofloo': 5,\n",
       " 'Pnscan': 6,\n",
       " 'Tsunami': 7,\n",
       " 'Unknown': 8,\n",
       " 'Xorddos': 9}"
      ]
     },
     "execution_count": 7,
     "metadata": {},
     "output_type": "execute_result"
    }
   ],
   "source": [
    "table"
   ]
  },
  {
   "cell_type": "code",
   "execution_count": 21,
   "id": "18250e25-527e-4063-8853-f2c156309ded",
   "metadata": {
    "tags": []
   },
   "outputs": [
    {
     "name": "stderr",
     "output_type": "stream",
     "text": [
      "100%|███████████████████████████████████████████████████████████████████████████████████████████████████████████████████| 5284/5284 [00:01<00:00, 2687.38it/s]\n",
      "100%|███████████████████████████████████████████████████████████████████████████████████████████████████████████████████| 4880/4880 [00:02<00:00, 1864.03it/s]\n"
     ]
    }
   ],
   "source": [
    "X_benign = []\n",
    "X_malware = []\n",
    "y_benign = []\n",
    "y_malware = []\n",
    "for i in tqdm(malware_graph):\n",
    "    matrix = np.load(malware_graph_path + i)\n",
    "    val,vec = np.linalg.eig(matrix)\n",
    "    val = val.tolist()\n",
    "    vec = vec.tolist()\n",
    "    max_number_index = []\n",
    "    for j in range(2):\n",
    "        s = val.index(max(val))\n",
    "        max_number_index.append(s)\n",
    "        val[s] = -1\n",
    "    two_eigenvector = vec[max_number_index[0]]+vec[max_number_index[1]]\n",
    "    X_benign.append(two_eigenvector)\n",
    "    y_benign.append(table['BenignWare'])\n",
    "\n",
    "benign_length = len(X_benign)\n",
    "\n",
    "for i in tqdm(benign_graph):\n",
    "    matrix = np.load(benign_graph_path + i)\n",
    "    val,vec = np.linalg.eig(matrix)\n",
    "    val = val.tolist()\n",
    "    vec = vec.tolist()\n",
    "    max_number_index = []\n",
    "    for j in range(2):\n",
    "        s = val.index(max(val))\n",
    "        max_number_index.append(s)\n",
    "        val[s] = -1\n",
    "    two_eigenvector = vec[max_number_index[0]]+vec[max_number_index[1]]\n",
    "    X_malware.append(two_eigenvector)\n",
    "    y_malware.append(table[label[filename.index(i[:-4])]]) \n",
    "\n",
    "\n",
    "malware_length = len(X_malware)\n",
    " "
   ]
  },
  {
   "cell_type": "code",
   "execution_count": 9,
   "id": "c8987bf2-1cd6-48d6-b5c1-21f7e9ba6afa",
   "metadata": {},
   "outputs": [],
   "source": [
    "from sklearn.model_selection import train_test_split\n",
    "x_benign_train ,x_benign_test ,y_benign_train ,y_benign_test = train_test_split( X_benign,y_benign,train_size =0.8 )\n",
    "x_malware_train ,x_malware_test ,y_malware_train ,y_malware_test = train_test_split( X_malware,y_malware,train_size =0.8 )\n",
    "x_train = x_benign_train + x_malware_train\n",
    "x_test = x_benign_test + x_malware_test\n",
    "y_train = y_benign_train + y_malware_train\n",
    "y_test =y_benign_test + y_malware_test"
   ]
  },
  {
   "cell_type": "code",
   "execution_count": 10,
   "id": "97b56007-1113-47ca-88a4-84cb0b12ffb4",
   "metadata": {},
   "outputs": [
    {
     "name": "stderr",
     "output_type": "stream",
     "text": [
      "2023-01-18 21:47:59.119878: I tensorflow/core/platform/cpu_feature_guard.cc:193] This TensorFlow binary is optimized with oneAPI Deep Neural Network Library (oneDNN) to use the following CPU instructions in performance-critical operations:  AVX2 AVX_VNNI FMA\n",
      "To enable them in other operations, rebuild TensorFlow with the appropriate compiler flags.\n",
      "2023-01-18 21:47:59.196680: I tensorflow/core/util/port.cc:104] oneDNN custom operations are on. You may see slightly different numerical results due to floating-point round-off errors from different computation orders. To turn them off, set the environment variable `TF_ENABLE_ONEDNN_OPTS=0`.\n",
      "2023-01-18 21:47:59.198707: W tensorflow/compiler/xla/stream_executor/platform/default/dso_loader.cc:64] Could not load dynamic library 'libcudart.so.11.0'; dlerror: libcudart.so.11.0: cannot open shared object file: No such file or directory\n",
      "2023-01-18 21:47:59.198716: I tensorflow/compiler/xla/stream_executor/cuda/cudart_stub.cc:29] Ignore above cudart dlerror if you do not have a GPU set up on your machine.\n",
      "2023-01-18 21:47:59.514725: W tensorflow/compiler/xla/stream_executor/platform/default/dso_loader.cc:64] Could not load dynamic library 'libnvinfer.so.7'; dlerror: libnvinfer.so.7: cannot open shared object file: No such file or directory\n",
      "2023-01-18 21:47:59.514758: W tensorflow/compiler/xla/stream_executor/platform/default/dso_loader.cc:64] Could not load dynamic library 'libnvinfer_plugin.so.7'; dlerror: libnvinfer_plugin.so.7: cannot open shared object file: No such file or directory\n",
      "2023-01-18 21:47:59.514761: W tensorflow/compiler/tf2tensorrt/utils/py_utils.cc:38] TF-TRT Warning: Cannot dlopen some TensorRT libraries. If you would like to use Nvidia GPU with TensorRT, please make sure the missing libraries mentioned above are installed properly.\n"
     ]
    }
   ],
   "source": [
    "from keras.models import Sequential\n",
    "from keras.layers.core import Dense, Dropout, Activation\n",
    "from keras.layers import Flatten\n",
    "from keras.utils import np_utils"
   ]
  },
  {
   "cell_type": "code",
   "execution_count": 11,
   "id": "1f1ef37f-7f0e-4db2-b1d9-4ac18eff4d10",
   "metadata": {},
   "outputs": [],
   "source": [
    "y_train = np_utils.to_categorical(y_train,2)\n",
    "y_test = np_utils.to_categorical(y_test,2)"
   ]
  },
  {
   "cell_type": "code",
   "execution_count": 24,
   "id": "1c624b79-cde0-4733-9131-9e3763a73206",
   "metadata": {},
   "outputs": [],
   "source": [
    "y_train = np_utils.to_categorical(y_train,10)\n",
    "y_test = np_utils.to_categorical(y_test,10)"
   ]
  },
  {
   "cell_type": "code",
   "execution_count": 12,
   "id": "991e9a06-2414-422f-9c84-c82754e9910b",
   "metadata": {},
   "outputs": [],
   "source": [
    "x_train = np.array(x_train)\n",
    "x_test = np.array(x_test)"
   ]
  },
  {
   "cell_type": "markdown",
   "id": "acd38bb8-3b07-4d45-85b0-9b13c0d1da3d",
   "metadata": {},
   "source": [
    "## test(mal/ben)"
   ]
  },
  {
   "cell_type": "code",
   "execution_count": 12,
   "id": "53049afe-3330-491b-9486-f4331add1c5c",
   "metadata": {
    "collapsed": true,
    "jupyter": {
     "outputs_hidden": true
    },
    "tags": []
   },
   "outputs": [
    {
     "name": "stdout",
     "output_type": "stream",
     "text": [
      "Model: \"sequential\"\n",
      "_________________________________________________________________\n",
      " Layer (type)                Output Shape              Param #   \n",
      "=================================================================\n",
      " dense (Dense)               (None, 256)               51456     \n",
      "                                                                 \n",
      " dense_1 (Dense)             (None, 128)               32896     \n",
      "                                                                 \n",
      " dense_2 (Dense)             (None, 64)                8256      \n",
      "                                                                 \n",
      " dense_3 (Dense)             (None, 2)                 130       \n",
      "                                                                 \n",
      "=================================================================\n",
      "Total params: 92,738\n",
      "Trainable params: 92,738\n",
      "Non-trainable params: 0\n",
      "_________________________________________________________________\n",
      "Epoch 1/31\n"
     ]
    },
    {
     "name": "stderr",
     "output_type": "stream",
     "text": [
      "2023-01-15 17:36:08.268494: W tensorflow/compiler/xla/stream_executor/platform/default/dso_loader.cc:64] Could not load dynamic library 'libcuda.so.1'; dlerror: libcuda.so.1: cannot open shared object file: No such file or directory\n",
      "2023-01-15 17:36:08.268529: W tensorflow/compiler/xla/stream_executor/cuda/cuda_driver.cc:265] failed call to cuInit: UNKNOWN ERROR (303)\n",
      "2023-01-15 17:36:08.268551: I tensorflow/compiler/xla/stream_executor/cuda/cuda_diagnostics.cc:156] kernel driver does not appear to be running on this host (islabunkill): /proc/driver/nvidia/version does not exist\n",
      "2023-01-15 17:36:08.268885: I tensorflow/core/platform/cpu_feature_guard.cc:193] This TensorFlow binary is optimized with oneAPI Deep Neural Network Library (oneDNN) to use the following CPU instructions in performance-critical operations:  AVX2 AVX_VNNI FMA\n",
      "To enable them in other operations, rebuild TensorFlow with the appropriate compiler flags.\n"
     ]
    },
    {
     "name": "stdout",
     "output_type": "stream",
     "text": [
      "255/255 [==============================] - 1s 2ms/step - loss: 0.5500 - accuracy: 0.7074\n",
      "Epoch 2/31\n",
      "255/255 [==============================] - 1s 2ms/step - loss: 0.4213 - accuracy: 0.7962\n",
      "Epoch 3/31\n",
      "255/255 [==============================] - 1s 2ms/step - loss: 0.3641 - accuracy: 0.8319\n",
      "Epoch 4/31\n",
      "255/255 [==============================] - 0s 2ms/step - loss: 0.3251 - accuracy: 0.8534\n",
      "Epoch 5/31\n",
      "255/255 [==============================] - 1s 2ms/step - loss: 0.3027 - accuracy: 0.8691\n",
      "Epoch 6/31\n",
      "255/255 [==============================] - 1s 2ms/step - loss: 0.2728 - accuracy: 0.8818\n",
      "Epoch 7/31\n",
      "255/255 [==============================] - 1s 2ms/step - loss: 0.2537 - accuracy: 0.8908\n",
      "Epoch 8/31\n",
      "255/255 [==============================] - 1s 2ms/step - loss: 0.2355 - accuracy: 0.9014\n",
      "Epoch 9/31\n",
      "255/255 [==============================] - 1s 2ms/step - loss: 0.2227 - accuracy: 0.9057\n",
      "Epoch 10/31\n",
      "255/255 [==============================] - 1s 2ms/step - loss: 0.2080 - accuracy: 0.9130\n",
      "Epoch 11/31\n",
      "255/255 [==============================] - 1s 2ms/step - loss: 0.1970 - accuracy: 0.9172\n",
      "Epoch 12/31\n",
      "255/255 [==============================] - 0s 2ms/step - loss: 0.1879 - accuracy: 0.9262\n",
      "Epoch 13/31\n",
      "255/255 [==============================] - 0s 2ms/step - loss: 0.1749 - accuracy: 0.9267\n",
      "Epoch 14/31\n",
      "255/255 [==============================] - 1s 2ms/step - loss: 0.1637 - accuracy: 0.9324\n",
      "Epoch 15/31\n",
      "255/255 [==============================] - 1s 2ms/step - loss: 0.1485 - accuracy: 0.9394\n",
      "Epoch 16/31\n",
      "255/255 [==============================] - 1s 2ms/step - loss: 0.1459 - accuracy: 0.9420\n",
      "Epoch 17/31\n",
      "255/255 [==============================] - 0s 1ms/step - loss: 0.1424 - accuracy: 0.9428\n",
      "Epoch 18/31\n",
      "255/255 [==============================] - 1s 2ms/step - loss: 0.1336 - accuracy: 0.9451\n",
      "Epoch 19/31\n",
      "255/255 [==============================] - 0s 2ms/step - loss: 0.1253 - accuracy: 0.9497\n",
      "Epoch 20/31\n",
      "255/255 [==============================] - 0s 2ms/step - loss: 0.1219 - accuracy: 0.9496\n",
      "Epoch 21/31\n",
      "255/255 [==============================] - 0s 2ms/step - loss: 0.1192 - accuracy: 0.9503\n",
      "Epoch 22/31\n",
      "255/255 [==============================] - 0s 2ms/step - loss: 0.1108 - accuracy: 0.9547\n",
      "Epoch 23/31\n",
      "255/255 [==============================] - 1s 2ms/step - loss: 0.1053 - accuracy: 0.9576\n",
      "Epoch 24/31\n",
      "255/255 [==============================] - 0s 2ms/step - loss: 0.1090 - accuracy: 0.9540\n",
      "Epoch 25/31\n",
      "255/255 [==============================] - 1s 2ms/step - loss: 0.0948 - accuracy: 0.9604\n",
      "Epoch 26/31\n",
      "255/255 [==============================] - 0s 2ms/step - loss: 0.1009 - accuracy: 0.9605\n",
      "Epoch 27/31\n",
      "255/255 [==============================] - 0s 1ms/step - loss: 0.0929 - accuracy: 0.9606\n",
      "Epoch 28/31\n",
      "255/255 [==============================] - 0s 2ms/step - loss: 0.0907 - accuracy: 0.9608\n",
      "Epoch 29/31\n",
      "255/255 [==============================] - 0s 2ms/step - loss: 0.0888 - accuracy: 0.9640\n",
      "Epoch 30/31\n",
      "255/255 [==============================] - 0s 2ms/step - loss: 0.0852 - accuracy: 0.9664\n",
      "Epoch 31/31\n",
      "255/255 [==============================] - 0s 2ms/step - loss: 0.0948 - accuracy: 0.9616\n",
      "255/255 [==============================] - 0s 950us/step - loss: 0.0933 - accuracy: 0.9619\n",
      "64/64 [==============================] - 0s 357us/step - loss: 0.9624 - accuracy: 0.8406\n"
     ]
    }
   ],
   "source": [
    "result_accuracy = []\n",
    "test_accuracy = []\n",
    "for i in range(31,32):\n",
    "    model = Sequential()\n",
    "    model.add(Dense(units=256, input_dim=200, kernel_initializer='normal', activation='relu')) \n",
    "    model.add(Dense(units=128, kernel_initializer='normal', activation='relu'))\n",
    "    # model.add(Dense(units=64, kernel_initializer='normal', activation='relu'))\n",
    "    model.add(Dense(units=64, kernel_initializer='normal', activation='relu'))\n",
    "    model.add(Dense(units=2, kernel_initializer='normal', activation='sigmoid'))\n",
    "    model.summary()\n",
    "    model.compile(loss='categorical_crossentropy', optimizer='adam', metrics=['accuracy']) \n",
    "    model.fit(x_train, y_train, epochs=i)\n",
    "    result = model.evaluate(x_train,y_train)\n",
    "    result_accuracy.append(result[1])\n",
    "    result = model.evaluate(x_test, y_test)\n",
    "    test_accuracy.append(result[1])"
   ]
  },
  {
   "cell_type": "code",
   "execution_count": 13,
   "id": "a2fcc537-a59c-40b9-a0e4-4d026b5038bc",
   "metadata": {},
   "outputs": [
    {
     "name": "stderr",
     "output_type": "stream",
     "text": [
      "WARNING:absl:Found untraced functions such as _update_step_xla while saving (showing 1 of 1). These functions will not be directly callable after loading.\n"
     ]
    },
    {
     "name": "stdout",
     "output_type": "stream",
     "text": [
      "INFO:tensorflow:Assets written to: ./MD.pb/assets\n"
     ]
    },
    {
     "name": "stderr",
     "output_type": "stream",
     "text": [
      "INFO:tensorflow:Assets written to: ./MD.pb/assets\n"
     ]
    }
   ],
   "source": [
    "model.save('./MD.pb')"
   ]
  },
  {
   "cell_type": "code",
   "execution_count": 13,
   "id": "994c51bd-234e-46aa-884a-a3f84bb3ac81",
   "metadata": {},
   "outputs": [
    {
     "name": "stderr",
     "output_type": "stream",
     "text": [
      "2023-01-18 21:48:06.439682: W tensorflow/compiler/xla/stream_executor/platform/default/dso_loader.cc:64] Could not load dynamic library 'libcuda.so.1'; dlerror: libcuda.so.1: cannot open shared object file: No such file or directory\n",
      "2023-01-18 21:48:06.440047: W tensorflow/compiler/xla/stream_executor/cuda/cuda_driver.cc:265] failed call to cuInit: UNKNOWN ERROR (303)\n",
      "2023-01-18 21:48:06.440054: I tensorflow/compiler/xla/stream_executor/cuda/cuda_diagnostics.cc:156] kernel driver does not appear to be running on this host (islabunkill): /proc/driver/nvidia/version does not exist\n",
      "2023-01-18 21:48:06.441257: I tensorflow/core/platform/cpu_feature_guard.cc:193] This TensorFlow binary is optimized with oneAPI Deep Neural Network Library (oneDNN) to use the following CPU instructions in performance-critical operations:  AVX2 AVX_VNNI FMA\n",
      "To enable them in other operations, rebuild TensorFlow with the appropriate compiler flags.\n"
     ]
    }
   ],
   "source": [
    "from tensorflow import keras\n",
    "myModel = keras.models.load_model('./MD.pb')"
   ]
  },
  {
   "cell_type": "code",
   "execution_count": 22,
   "id": "9f9e4191-69b4-4172-85bc-8d7dbf48b8ab",
   "metadata": {},
   "outputs": [],
   "source": [
    "d = np.reshape(x_test[0,:],(1,200))"
   ]
  },
  {
   "cell_type": "code",
   "execution_count": 28,
   "id": "34b5287a-2690-4d38-9e7f-5b75c0e1cf90",
   "metadata": {},
   "outputs": [
    {
     "name": "stdout",
     "output_type": "stream",
     "text": [
      "1/1 [==============================] - 0s 9ms/step\n"
     ]
    },
    {
     "data": {
      "text/plain": [
       "array([0.6210788 , 0.37600878], dtype=float32)"
      ]
     },
     "execution_count": 28,
     "metadata": {},
     "output_type": "execute_result"
    }
   ],
   "source": [
    "myModel.predict(d)[0]"
   ]
  },
  {
   "cell_type": "code",
   "execution_count": 27,
   "id": "2b69981a-9d5c-4116-8241-77f628c10e8a",
   "metadata": {
    "tags": []
   },
   "outputs": [],
   "source": [
    "result_accuracy_1 = list(zip(result_accuracy, range(len(result_accuracy))))\n",
    "test_accuracy_1 = list(zip(test_accuracy, range(len(test_accuracy))))\n",
    "import matplotlib.pyplot as plt\n",
    "result_accuracy_1 = np.array(result_accuracy_1)\n",
    "test_accuracy_1 = np.array(test_accuracy_1)"
   ]
  },
  {
   "cell_type": "code",
   "execution_count": 28,
   "id": "88684cb1-d380-4680-8e48-1fc822b87c59",
   "metadata": {},
   "outputs": [],
   "source": [
    "result_accuracy_1[:,1] = result_accuracy_1[:,1]+25\n",
    "test_accuracy_1[:,1] = test_accuracy_1[:,1]+25"
   ]
  },
  {
   "cell_type": "code",
   "execution_count": 29,
   "id": "4af03d0f-15fc-4665-9590-7869707fe61d",
   "metadata": {},
   "outputs": [
    {
     "data": {
      "image/png": "[encoded data removed]",
      "text/plain": [
       "<Figure size 432x288 with 1 Axes>"
      ]
     },
     "metadata": {
      "needs_background": "light"
     },
     "output_type": "display_data"
    }
   ],
   "source": [
    "plt.plot(test_accuracy_1[:,1],test_accuracy_1[:,0],c = 'r')\n",
    "\n",
    "plt.title('malware/benignware')\n",
    "plt.xlabel('epochs')\n",
    "plt.ylabel('accuracy')\n",
    "plt.show()"
   ]
  },
  {
   "cell_type": "code",
   "execution_count": 37,
   "id": "172f7dba-dc08-49ef-9763-c2a8d43131cb",
   "metadata": {},
   "outputs": [
    {
     "data": {
      "image/png": "[encoded data removed]",
      "text/plain": [
       "<Figure size 432x288 with 1 Axes>"
      ]
     },
     "metadata": {
      "needs_background": "light"
     },
     "output_type": "display_data"
    }
   ],
   "source": [
    "plt.plot(result_accuracy_1[:,1],result_accuracy_1[:,0])\n",
    "plt.title('malware/benignware')\n",
    "plt.xlabel('epochs')\n",
    "plt.ylabel('accuracy')\n",
    "plt.show()"
   ]
  },
  {
   "cell_type": "code",
   "execution_count": null,
   "id": "e1477647-4577-4e1f-bedf-95aef49d31a4",
   "metadata": {},
   "outputs": [],
   "source": []
  },
  {
   "cell_type": "markdown",
   "id": "3536ce15-83ba-4285-89ba-4ee25ff984c1",
   "metadata": {
    "tags": []
   },
   "source": [
    "## test(family classification)"
   ]
  },
  {
   "cell_type": "code",
   "execution_count": 32,
   "id": "24e11930-b40b-46bb-864c-9971d62b417f",
   "metadata": {
    "collapsed": true,
    "jupyter": {
     "outputs_hidden": true
    },
    "tags": []
   },
   "outputs": [
    {
     "name": "stdout",
     "output_type": "stream",
     "text": [
      "Model: \"sequential_31\"\n",
      "_________________________________________________________________\n",
      " Layer (type)                Output Shape              Param #   \n",
      "=================================================================\n",
      " dense_124 (Dense)           (None, 256)               51456     \n",
      "                                                                 \n",
      " dense_125 (Dense)           (None, 128)               32896     \n",
      "                                                                 \n",
      " dense_126 (Dense)           (None, 64)                8256      \n",
      "                                                                 \n",
      " dense_127 (Dense)           (None, 10)                650       \n",
      "                                                                 \n",
      "=================================================================\n",
      "Total params: 93,258\n",
      "Trainable params: 93,258\n",
      "Non-trainable params: 0\n",
      "_________________________________________________________________\n",
      "Epoch 1/49\n",
      "255/255 [==============================] - 1s 2ms/step - loss: 1.2748 - accuracy: 0.5490\n",
      "Epoch 2/49\n",
      "255/255 [==============================] - 1s 2ms/step - loss: 0.9369 - accuracy: 0.6731\n",
      "Epoch 3/49\n",
      "255/255 [==============================] - 1s 2ms/step - loss: 0.8111 - accuracy: 0.7179\n",
      "Epoch 4/49\n",
      "255/255 [==============================] - 1s 2ms/step - loss: 0.7280 - accuracy: 0.7500\n",
      "Epoch 5/49\n",
      "255/255 [==============================] - 0s 2ms/step - loss: 0.6719 - accuracy: 0.7746\n",
      "Epoch 6/49\n",
      "255/255 [==============================] - 1s 2ms/step - loss: 0.6201 - accuracy: 0.7944\n",
      "Epoch 7/49\n",
      "255/255 [==============================] - 1s 2ms/step - loss: 0.5831 - accuracy: 0.8073\n",
      "Epoch 8/49\n",
      "255/255 [==============================] - 1s 2ms/step - loss: 0.5415 - accuracy: 0.8277\n",
      "Epoch 9/49\n",
      "255/255 [==============================] - 1s 2ms/step - loss: 0.5015 - accuracy: 0.8418\n",
      "Epoch 10/49\n",
      "255/255 [==============================] - 1s 2ms/step - loss: 0.4728 - accuracy: 0.8473\n",
      "Epoch 11/49\n",
      "255/255 [==============================] - 1s 2ms/step - loss: 0.4438 - accuracy: 0.8605\n",
      "Epoch 12/49\n",
      "255/255 [==============================] - 1s 2ms/step - loss: 0.4163 - accuracy: 0.8709\n",
      "Epoch 13/49\n",
      "255/255 [==============================] - 1s 2ms/step - loss: 0.3976 - accuracy: 0.8730\n",
      "Epoch 14/49\n",
      "255/255 [==============================] - 0s 1ms/step - loss: 0.3855 - accuracy: 0.8806\n",
      "Epoch 15/49\n",
      "255/255 [==============================] - 1s 2ms/step - loss: 0.3592 - accuracy: 0.8869\n",
      "Epoch 16/49\n",
      "255/255 [==============================] - 1s 2ms/step - loss: 0.3392 - accuracy: 0.8908\n",
      "Epoch 17/49\n",
      "255/255 [==============================] - 1s 2ms/step - loss: 0.3305 - accuracy: 0.8964\n",
      "Epoch 18/49\n",
      "255/255 [==============================] - 0s 2ms/step - loss: 0.3176 - accuracy: 0.8984\n",
      "Epoch 19/49\n",
      "255/255 [==============================] - 0s 717us/step - loss: 0.3112 - accuracy: 0.8990\n",
      "Epoch 20/49\n",
      "255/255 [==============================] - 0s 2ms/step - loss: 0.2930 - accuracy: 0.9046\n",
      "Epoch 21/49\n",
      "255/255 [==============================] - 0s 2ms/step - loss: 0.2766 - accuracy: 0.9079\n",
      "Epoch 22/49\n",
      "255/255 [==============================] - 1s 2ms/step - loss: 0.2656 - accuracy: 0.9148\n",
      "Epoch 23/49\n",
      "255/255 [==============================] - 0s 2ms/step - loss: 0.2621 - accuracy: 0.9142\n",
      "Epoch 24/49\n",
      "255/255 [==============================] - 0s 2ms/step - loss: 0.2566 - accuracy: 0.9166\n",
      "Epoch 25/49\n",
      "255/255 [==============================] - 1s 2ms/step - loss: 0.2439 - accuracy: 0.9210\n",
      "Epoch 26/49\n",
      "255/255 [==============================] - 1s 2ms/step - loss: 0.2388 - accuracy: 0.9204\n",
      "Epoch 27/49\n",
      "255/255 [==============================] - 1s 2ms/step - loss: 0.2266 - accuracy: 0.9257\n",
      "Epoch 28/49\n",
      "255/255 [==============================] - 0s 2ms/step - loss: 0.2362 - accuracy: 0.9215\n",
      "Epoch 29/49\n",
      "255/255 [==============================] - 0s 2ms/step - loss: 0.2133 - accuracy: 0.9306\n",
      "Epoch 30/49\n",
      "255/255 [==============================] - 0s 2ms/step - loss: 0.2098 - accuracy: 0.9289\n",
      "Epoch 31/49\n",
      "255/255 [==============================] - 1s 2ms/step - loss: 0.1977 - accuracy: 0.9358\n",
      "Epoch 32/49\n",
      "255/255 [==============================] - 1s 2ms/step - loss: 0.2000 - accuracy: 0.9351\n",
      "Epoch 33/49\n",
      "255/255 [==============================] - 1s 2ms/step - loss: 0.1871 - accuracy: 0.9344\n",
      "Epoch 34/49\n",
      "255/255 [==============================] - 1s 2ms/step - loss: 0.1966 - accuracy: 0.9338\n",
      "Epoch 35/49\n",
      "255/255 [==============================] - 1s 2ms/step - loss: 0.1852 - accuracy: 0.9364\n",
      "Epoch 36/49\n",
      "255/255 [==============================] - 1s 3ms/step - loss: 0.1735 - accuracy: 0.9426\n",
      "Epoch 37/49\n",
      "255/255 [==============================] - 1s 2ms/step - loss: 0.1653 - accuracy: 0.9431\n",
      "Epoch 38/49\n",
      "255/255 [==============================] - 1s 2ms/step - loss: 0.1741 - accuracy: 0.9395\n",
      "Epoch 39/49\n",
      "255/255 [==============================] - 1s 2ms/step - loss: 0.1793 - accuracy: 0.9411\n",
      "Epoch 40/49\n",
      "255/255 [==============================] - 0s 1ms/step - loss: 0.1576 - accuracy: 0.9447\n",
      "Epoch 41/49\n",
      "255/255 [==============================] - 0s 1ms/step - loss: 0.1627 - accuracy: 0.9449\n",
      "Epoch 42/49\n",
      "255/255 [==============================] - 0s 2ms/step - loss: 0.1565 - accuracy: 0.9459\n",
      "Epoch 43/49\n",
      "255/255 [==============================] - 0s 2ms/step - loss: 0.1585 - accuracy: 0.9475\n",
      "Epoch 44/49\n",
      "255/255 [==============================] - 0s 2ms/step - loss: 0.1440 - accuracy: 0.9504\n",
      "Epoch 45/49\n",
      "255/255 [==============================] - 1s 2ms/step - loss: 0.1470 - accuracy: 0.9470\n",
      "Epoch 46/49\n",
      "255/255 [==============================] - 1s 2ms/step - loss: 0.1413 - accuracy: 0.9529\n",
      "Epoch 47/49\n",
      "255/255 [==============================] - 0s 2ms/step - loss: 0.1356 - accuracy: 0.9530\n",
      "Epoch 48/49\n",
      "255/255 [==============================] - 1s 2ms/step - loss: 0.1472 - accuracy: 0.9470\n",
      "Epoch 49/49\n",
      "255/255 [==============================] - 0s 2ms/step - loss: 0.1389 - accuracy: 0.9535\n",
      "255/255 [==============================] - 0s 400us/step - loss: 0.1144 - accuracy: 0.9597\n",
      "64/64 [==============================] - 0s 347us/step - loss: 1.2292 - accuracy: 0.8155\n"
     ]
    }
   ],
   "source": [
    "result_accuracy = []\n",
    "test_accuracy = []\n",
    "for i in range(49,50):\n",
    "    model = Sequential()\n",
    "    model.add(Dense(units=256, input_dim=200, kernel_initializer='normal', activation='relu')) \n",
    "    model.add(Dense(units=128, kernel_initializer='normal', activation='relu'))\n",
    "    model.add(Dense(units=64, kernel_initializer='normal', activation='relu'))\n",
    "\n",
    "    model.add(Dense(units=10, kernel_initializer='normal', activation='sigmoid'))\n",
    "    model.summary()\n",
    "    model.compile(loss='categorical_crossentropy', optimizer='adam', metrics=['accuracy']) \n",
    "    model.fit(x_train, y_train, epochs=i)\n",
    "    result = model.evaluate(x_train, y_train)\n",
    "    result_accuracy.append(result[1])\n",
    "    result = model.evaluate(x_test, y_test)\n",
    "    test_accuracy.append(result[1]) "
   ]
  },
  {
   "cell_type": "code",
   "execution_count": 33,
   "id": "a92301b7-9f2d-4b14-b5a2-4425dd98a161",
   "metadata": {},
   "outputs": [
    {
     "name": "stderr",
     "output_type": "stream",
     "text": [
      "WARNING:absl:Found untraced functions such as _update_step_xla while saving (showing 1 of 1). These functions will not be directly callable after loading.\n"
     ]
    },
    {
     "name": "stdout",
     "output_type": "stream",
     "text": [
      "INFO:tensorflow:Assets written to: ./FC.pb/assets\n"
     ]
    },
    {
     "name": "stderr",
     "output_type": "stream",
     "text": [
      "INFO:tensorflow:Assets written to: ./FC.pb/assets\n"
     ]
    }
   ],
   "source": [
    "model.save('./FC.pb')"
   ]
  },
  {
   "cell_type": "code",
   "execution_count": 34,
   "id": "a66a612f-7899-4ccf-a2f2-7de2acc02182",
   "metadata": {},
   "outputs": [],
   "source": [
    "from tensorflow import keras\n",
    "myModel = keras.models.load_model('./FC.pb')"
   ]
  },
  {
   "cell_type": "code",
   "execution_count": 36,
   "id": "d9c03ce2-b66f-4d2a-9da2-ba87f7514c45",
   "metadata": {},
   "outputs": [
    {
     "name": "stdout",
     "output_type": "stream",
     "text": [
      "64/64 [==============================] - 0s 487us/step - loss: 1.2292 - accuracy: 0.8155\n"
     ]
    },
    {
     "data": {
      "text/plain": [
       "[1.2292081117630005, 0.815543532371521]"
      ]
     },
     "execution_count": 36,
     "metadata": {},
     "output_type": "execute_result"
    }
   ],
   "source": [
    "myModel.evaluate(x_test,y_test)"
   ]
  },
  {
   "cell_type": "code",
   "execution_count": 29,
   "id": "11a4c99b-85b3-4e9e-a9cf-686358440112",
   "metadata": {
    "tags": []
   },
   "outputs": [
    {
     "data": {
      "text/plain": [
       "0.8396458625793457"
      ]
     },
     "execution_count": 29,
     "metadata": {},
     "output_type": "execute_result"
    }
   ],
   "source": [
    "max(test_accuracy)"
   ]
  },
  {
   "cell_type": "code",
   "execution_count": 30,
   "id": "77398df5-d9f0-4c21-921e-7f4815e67d3f",
   "metadata": {},
   "outputs": [],
   "source": [
    "result_accuracy_2 = list(zip(result_accuracy, range(len(result_accuracy))))\n",
    "import matplotlib.pyplot as plt\n",
    "result_accuracy_2 = np.array(result_accuracy_2)"
   ]
  },
  {
   "cell_type": "code",
   "execution_count": 31,
   "id": "66772713-e18f-4316-86c8-7f30436af6fa",
   "metadata": {},
   "outputs": [
    {
     "data": {
      "image/png": "[encoded data removed]",
      "text/plain": [
       "<Figure size 432x288 with 1 Axes>"
      ]
     },
     "metadata": {
      "needs_background": "light"
     },
     "output_type": "display_data"
    }
   ],
   "source": [
    "result_accuracy_2[:,1] = result_accuracy_2[:,1]+30\n",
    "plt.plot(result_accuracy_2[:,1],result_accuracy_2[:,0])\n",
    "plt.title('malware/benignware')\n",
    "plt.xlabel('epochs')\n",
    "plt.ylabel('accuracy')\n",
    "plt.show()"
   ]
  },
  {
   "cell_type": "markdown",
   "id": "c62b69a6-7e64-4fe6-abd5-85b6805841d6",
   "metadata": {},
   "source": [
    "## Real"
   ]
  },
  {
   "cell_type": "code",
   "execution_count": 20,
   "id": "8a83c728-2933-4c8f-99a1-b9a881ee74c2",
   "metadata": {},
   "outputs": [
    {
     "name": "stdout",
     "output_type": "stream",
     "text": [
      "Model: \"sequential_1\"\n",
      "_________________________________________________________________\n",
      " Layer (type)                Output Shape              Param #   \n",
      "=================================================================\n",
      " dense_5 (Dense)             (None, 64)                12864     \n",
      "                                                                 \n",
      " dense_6 (Dense)             (None, 128)               8320      \n",
      "                                                                 \n",
      " dense_7 (Dense)             (None, 256)               33024     \n",
      "                                                                 \n",
      " dense_8 (Dense)             (None, 64)                16448     \n",
      "                                                                 \n",
      " dense_9 (Dense)             (None, 2)                 130       \n",
      "                                                                 \n",
      "=================================================================\n",
      "Total params: 70,786\n",
      "Trainable params: 70,786\n",
      "Non-trainable params: 0\n",
      "_________________________________________________________________\n"
     ]
    }
   ],
   "source": [
    "model = Sequential()\n",
    "model.add(Dense(units=64, input_dim=200, kernel_initializer='normal', activation='relu')) \n",
    "model.add(Dense(units=128, kernel_initializer='normal', activation='relu'))\n",
    "model.add(Dense(units=256, kernel_initializer='normal', activation='relu'))\n",
    "model.add(Dense(units=64, kernel_initializer='normal', activation='relu'))\n",
    "model.add(Dense(units=2, kernel_initializer='normal', activation='sigmoid'))\n",
    "model.summary()\n",
    "model.compile(loss='categorical_crossentropy', optimizer='adam', metrics=['accuracy']) "
   ]
  },
  {
   "cell_type": "code",
   "execution_count": 21,
   "id": "a8f749ec-e207-4d51-9e7d-7cc8b470c5a5",
   "metadata": {
    "tags": []
   },
   "outputs": [
    {
     "name": "stdout",
     "output_type": "stream",
     "text": [
      "Epoch 1/20\n",
      "133/133 [==============================] - 0s 750us/step - loss: 0.6135 - accuracy: 0.6583\n",
      "Epoch 2/20\n",
      "133/133 [==============================] - 0s 695us/step - loss: 0.4936 - accuracy: 0.7565\n",
      "Epoch 3/20\n",
      "133/133 [==============================] - 0s 695us/step - loss: 0.4138 - accuracy: 0.8141\n",
      "Epoch 4/20\n",
      "133/133 [==============================] - 0s 728us/step - loss: 0.3744 - accuracy: 0.8384\n",
      "Epoch 5/20\n",
      "133/133 [==============================] - 0s 741us/step - loss: 0.3351 - accuracy: 0.8521\n",
      "Epoch 6/20\n",
      "133/133 [==============================] - 0s 745us/step - loss: 0.3108 - accuracy: 0.8653\n",
      "Epoch 7/20\n",
      "133/133 [==============================] - 0s 784us/step - loss: 0.2806 - accuracy: 0.8811\n",
      "Epoch 8/20\n",
      "133/133 [==============================] - 0s 748us/step - loss: 0.2628 - accuracy: 0.8893\n",
      "Epoch 9/20\n",
      "133/133 [==============================] - 0s 742us/step - loss: 0.2492 - accuracy: 0.8962\n",
      "Epoch 10/20\n",
      "133/133 [==============================] - 0s 759us/step - loss: 0.2354 - accuracy: 0.9059\n",
      "Epoch 11/20\n",
      "133/133 [==============================] - 0s 721us/step - loss: 0.2219 - accuracy: 0.9127\n",
      "Epoch 12/20\n",
      "133/133 [==============================] - 0s 736us/step - loss: 0.2059 - accuracy: 0.9184\n",
      "Epoch 13/20\n",
      "133/133 [==============================] - 0s 740us/step - loss: 0.2087 - accuracy: 0.9155\n",
      "Epoch 14/20\n",
      "133/133 [==============================] - 0s 752us/step - loss: 0.1929 - accuracy: 0.9207\n",
      "Epoch 15/20\n",
      "133/133 [==============================] - 0s 741us/step - loss: 0.1857 - accuracy: 0.9292\n",
      "Epoch 16/20\n",
      "133/133 [==============================] - 0s 713us/step - loss: 0.1756 - accuracy: 0.9337\n",
      "Epoch 17/20\n",
      "133/133 [==============================] - 0s 809us/step - loss: 0.1652 - accuracy: 0.9353\n",
      "Epoch 18/20\n",
      "133/133 [==============================] - 0s 738us/step - loss: 0.1543 - accuracy: 0.9422\n",
      "Epoch 19/20\n",
      "133/133 [==============================] - 0s 742us/step - loss: 0.1494 - accuracy: 0.9434\n",
      "Epoch 20/20\n",
      "133/133 [==============================] - 0s 715us/step - loss: 0.1437 - accuracy: 0.9445\n",
      "34/34 [==============================] - 0s 529us/step - loss: 0.6020 - accuracy: 0.8379\n",
      "\n",
      " Testing accuracy: 0.837888777256012\n"
     ]
    }
   ],
   "source": [
    "model.fit(x_train, y_train, epochs=20)\n",
    "result = model.evaluate(x_test, y_test)\n",
    "print('\\n Testing accuracy:',result[1])"
   ]
  },
  {
   "cell_type": "code",
   "execution_count": 13,
   "id": "1bd771db-f80f-4dd4-9413-24cf1ce552c4",
   "metadata": {
    "collapsed": true,
    "jupyter": {
     "outputs_hidden": true
    },
    "tags": []
   },
   "outputs": [
    {
     "data": {
      "text/plain": [
       "array([0., 0., 0., 0., 0., 0., 0., 0., 0., 0., 0., 0., 0., 0., 0., 0., 0.,\n",
       "       0., 0., 0., 0., 0., 0., 0., 0., 0., 0., 0., 0., 0., 0., 0., 0., 0.,\n",
       "       0., 0., 0., 0., 0., 0., 0., 0., 0., 0., 0., 0., 0., 0., 0., 0., 0.,\n",
       "       0., 0., 0., 0., 0., 0., 0., 0., 0., 0., 0., 0., 0., 0., 0., 0., 0.,\n",
       "       0., 0., 0., 0., 0., 0., 0., 0., 0., 0., 0., 0., 0., 0., 0., 0., 0.,\n",
       "       0., 0., 0., 0., 0., 0., 0., 0., 0., 0., 0., 0., 0., 0., 0., 0., 0.,\n",
       "       0., 0., 0., 0., 0., 0., 0., 0., 0., 0., 0., 0., 0., 0., 0., 0., 0.,\n",
       "       0., 0., 0., 0., 0., 0., 0., 0., 0., 0., 0., 0., 0., 0., 0., 0., 0.,\n",
       "       0., 0., 0., 0., 0., 0., 0., 0., 0., 0., 0., 0., 0., 0., 0., 0., 0.,\n",
       "       0., 0., 0., 0., 0., 0., 0., 0., 0., 0., 0., 0., 0., 0., 0., 0., 0.,\n",
       "       0., 0., 0., 0., 0., 0., 0., 0., 0., 0., 0., 0., 0., 0., 0., 0., 0.,\n",
       "       0., 0., 0., 0., 0., 0., 0., 0., 0., 0., 0., 0., 0., 0., 0., 0., 0.,\n",
       "       0., 0., 0., 0., 0., 0., 0., 0., 0., 0., 0., 0., 0., 0., 0., 0., 0.,\n",
       "       0., 0., 0., 0., 0., 0., 0., 0., 0., 0., 0., 0., 0., 0., 0., 0., 0.,\n",
       "       0., 0., 0., 0., 0., 0., 0., 0., 0., 0., 0., 0., 0., 0., 0., 0., 0.,\n",
       "       0., 0., 0., 0., 0., 0., 0., 0., 0., 0., 0., 0., 0., 0., 0., 0., 0.,\n",
       "       0., 0., 0., 0., 0., 0., 0., 0., 0., 0., 0., 0., 0., 0., 0., 0., 0.,\n",
       "       0., 0., 0., 0., 0., 0., 0., 0., 0., 0., 0., 0., 0., 0., 0., 0., 0.,\n",
       "       0., 0., 0., 0., 0., 0., 0., 0., 0., 0., 0., 0., 0., 0., 0., 0., 0.,\n",
       "       0., 0., 0., 0., 0., 0., 0., 0., 0., 0., 0., 0., 0., 0., 0., 0., 0.,\n",
       "       0., 0., 0., 0., 0., 0., 0., 0., 0., 0., 0., 0., 0., 0., 0., 0., 0.,\n",
       "       0., 0., 0., 0., 0., 0., 0., 0., 0., 0., 0., 0., 0., 0., 0., 0., 0.,\n",
       "       0., 0., 0., 0., 0., 0., 0., 0., 0., 0., 0., 0., 0., 0., 0., 0., 0.,\n",
       "       0., 0., 0., 0., 0., 0., 0., 0., 0., 0., 0., 0., 0., 0., 0., 0., 0.,\n",
       "       1., 1., 1., 1., 1., 1., 1., 1., 1., 1., 1., 1., 1., 1., 1., 1., 1.,\n",
       "       1., 1., 1., 1., 1., 1., 1., 1., 1., 1., 1., 1., 1., 1., 1., 1., 1.,\n",
       "       1., 1., 1., 1., 1., 1., 1., 1., 1., 1., 1., 1., 1., 1., 1., 1., 1.,\n",
       "       1., 1., 1., 1., 1., 1., 1., 1., 1., 1., 1., 1., 1., 1., 1., 1., 1.,\n",
       "       1., 1., 1., 1., 1., 1., 1., 1., 1., 1., 1., 1., 1., 1., 1., 1., 1.,\n",
       "       1., 1., 1., 1., 1., 1., 1., 1., 1., 1., 1., 1., 1., 1., 1., 1., 1.,\n",
       "       1., 1., 1., 1., 1., 1., 1., 1., 1., 1., 1., 1., 1., 1., 1., 1., 1.,\n",
       "       1., 1., 1., 1., 1., 1., 1., 1., 1., 1., 1., 1., 1., 1., 1., 1., 1.,\n",
       "       1., 1., 1., 1., 1., 1., 1., 1., 1., 1., 1., 1., 1., 1., 1., 1., 1.,\n",
       "       1., 1., 1., 1., 1., 1., 1., 1., 1., 1., 1., 1., 1., 1., 1., 1., 1.,\n",
       "       1., 1., 1., 1., 1., 1., 1., 1., 1., 1., 1., 1., 1., 1., 1., 1., 1.,\n",
       "       1., 1., 1., 1., 1., 1., 1., 1., 1., 1., 1., 1., 1., 1., 1., 1., 1.,\n",
       "       1., 1., 1., 1., 1., 1., 1., 1., 1., 1., 1., 1., 1., 1., 1., 1., 1.,\n",
       "       1., 1., 1., 1., 1., 1., 1., 1., 1., 1., 1., 1., 1., 1., 1., 1., 1.,\n",
       "       1., 1., 1., 1., 1., 1., 1., 1., 1., 1.], dtype=float32)"
      ]
     },
     "execution_count": 13,
     "metadata": {},
     "output_type": "execute_result"
    }
   ],
   "source": [
    "y_test[:,1]"
   ]
  },
  {
   "cell_type": "code",
   "execution_count": 25,
   "id": "08924e23-4c94-4646-ab98-54d72a663edd",
   "metadata": {},
   "outputs": [
    {
     "data": {
      "text/plain": [
       "2452"
      ]
     },
     "execution_count": 25,
     "metadata": {},
     "output_type": "execute_result"
    }
   ],
   "source": [
    "len(y_train)"
   ]
  },
  {
   "cell_type": "code",
   "execution_count": null,
   "id": "d79e54d3-e709-4e92-bccb-32c47091523b",
   "metadata": {},
   "outputs": [],
   "source": []
  }
 ],
 "metadata": {
  "kernelspec": {
   "display_name": "Python 3 (ipykernel)",
   "language": "python",
   "name": "python3"
  },
  "language_info": {
   "codemirror_mode": {
    "name": "ipython",
    "version": 3
   },
   "file_extension": ".py",
   "mimetype": "text/x-python",
   "name": "python",
   "nbconvert_exporter": "python",
   "pygments_lexer": "ipython3",
   "version": "3.9.7"
  }
 },
 "nbformat": 4,
 "nbformat_minor": 5
}
